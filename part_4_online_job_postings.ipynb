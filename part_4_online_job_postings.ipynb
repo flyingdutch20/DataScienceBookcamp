{
 "cells": [
  {
   "cell_type": "markdown",
   "metadata": {},
   "source": [
    "<h1>13 Measuring Text Similarities"
   ]
  },
  {
   "cell_type": "code",
   "execution_count": 1,
   "metadata": {},
   "outputs": [
    {
     "name": "stdout",
     "output_type": "stream",
     "text": [
      "Words in text 1\n",
      "['She', 'sells', 'seashells', 'by', 'the', 'seashore.']\n",
      "\n",
      "Words in text 2\n",
      "['\"Seashells!', 'The', 'seashells', 'are', 'on', 'sale!', 'By', 'the', 'seashore.\"']\n",
      "\n",
      "Words in text 3\n",
      "['She', 'sells', '3', 'seashells', 'to', 'John,', 'who', 'lives', 'by', 'the', 'lake.']\n",
      "\n"
     ]
    }
   ],
   "source": [
    "text1 = 'She sells seashells by the seashore.'\n",
    "text2 = '\"Seashells! The seashells are on sale! By the seashore.\"'\n",
    "text3 = 'She sells 3 seashells to John, who lives by the lake.'\n",
    "words_lists = [text.split() for text in [text1, text2, text3]]\n",
    "words1, words2, words3 = words_lists\n",
    "\n",
    "for i, words in enumerate(words_lists, 1):\n",
    "    print(f\"Words in text {i}\")\n",
    "    print(f\"{words}\\n\")"
   ]
  },
  {
   "cell_type": "code",
   "execution_count": 2,
   "metadata": {},
   "outputs": [
    {
     "name": "stdout",
     "output_type": "stream",
     "text": [
      "Words in text 1\n",
      "['she', 'sells', 'seashells', 'by', 'the', 'seashore']\n",
      "\n",
      "Words in text 2\n",
      "['seashells', 'the', 'seashells', 'are', 'on', 'sale', 'by', 'the', 'seashore']\n",
      "\n",
      "Words in text 3\n",
      "['she', 'sells', '3', 'seashells', 'to', 'john', 'who', 'lives', 'by', 'the', 'lake']\n",
      "\n"
     ]
    }
   ],
   "source": [
    "def simplify_text(text):\n",
    "    for punctuation in ['.', ',', '!', '?', '\"']:\n",
    "        text = text.replace(punctuation, '')\n",
    "\n",
    "    return text.lower()\n",
    "\n",
    "for i, words in enumerate(words_lists, 1):\n",
    "    for j, word in enumerate(words):\n",
    "        words[j] = simplify_text(word)\n",
    "\n",
    "    print(f\"Words in text {i}\")\n",
    "    print(f\"{words}\\n\")"
   ]
  },
  {
   "cell_type": "code",
   "execution_count": 3,
   "metadata": {},
   "outputs": [
    {
     "name": "stdout",
     "output_type": "stream",
     "text": [
      "Unique Words in text 1\n",
      "{'sells', 'seashells', 'seashore', 'she', 'the', 'by'}\n",
      "\n",
      "Unique Words in text 2\n",
      "{'seashells', 'seashore', 'sale', 'on', 'are', 'the', 'by'}\n",
      "\n",
      "Unique Words in text 3\n",
      "{'sells', 'lives', 'who', 'seashells', 'lake', 'john', 'to', 'she', '3', 'the', 'by'}\n",
      "\n"
     ]
    }
   ],
   "source": [
    "words_sets = [set(words) for words in words_lists]\n",
    "for i, unique_words in enumerate(words_sets, 1):\n",
    "    print(f\"Unique Words in text {i}\")\n",
    "    print(f\"{unique_words}\\n\")"
   ]
  },
  {
   "cell_type": "code",
   "execution_count": 4,
   "metadata": {},
   "outputs": [
    {
     "data": {
      "text/plain": [
       "[{'by', 'seashells', 'seashore', 'sells', 'she', 'the'},\n",
       " {'are', 'by', 'on', 'sale', 'seashells', 'seashore', 'the'},\n",
       " {'3',\n",
       "  'by',\n",
       "  'john',\n",
       "  'lake',\n",
       "  'lives',\n",
       "  'seashells',\n",
       "  'sells',\n",
       "  'she',\n",
       "  'the',\n",
       "  'to',\n",
       "  'who'}]"
      ]
     },
     "execution_count": 4,
     "metadata": {},
     "output_type": "execute_result"
    }
   ],
   "source": [
    "words_sets"
   ]
  },
  {
   "cell_type": "code",
   "execution_count": 5,
   "metadata": {},
   "outputs": [
    {
     "name": "stdout",
     "output_type": "stream",
     "text": [
      "Texts 1 and 2 share these 4 words:\n",
      "{'the', 'seashells', 'seashore', 'by'}\n",
      "\n",
      "Texts 1 and 3 share these 5 words:\n",
      "{'sells', 'seashells', 'she', 'the', 'by'}\n",
      "\n"
     ]
    }
   ],
   "source": [
    "words_set1 = words_sets[0]\n",
    "for i, words_set in enumerate(words_sets[1:], 2):\n",
    "    shared_words = words_set1 & words_set\n",
    "    print(f\"Texts 1 and {i} share these {len(shared_words)} words:\")\n",
    "    print(f\"{shared_words}\\n\")"
   ]
  },
  {
   "cell_type": "code",
   "execution_count": 6,
   "metadata": {},
   "outputs": [
    {
     "name": "stdout",
     "output_type": "stream",
     "text": [
      "Texts 1 and 2 don't share these 5 words:\n",
      "{'sells', 'sale', 'she', 'on', 'are'}\n",
      "\n",
      "Texts 1 and 3 don't share these 7 words:\n",
      "{'lives', 'who', 'seashore', 'lake', 'john', 'to', '3'}\n",
      "\n"
     ]
    }
   ],
   "source": [
    "for i, words_set in enumerate(words_sets[1:], 2):\n",
    "    diverging_words = words_set1 ^ words_set\n",
    "    print(f\"Texts 1 and {i} don't share these {len(diverging_words)} words:\")\n",
    "    print(f\"{diverging_words}\\n\")"
   ]
  },
  {
   "cell_type": "code",
   "execution_count": 7,
   "metadata": {},
   "outputs": [
    {
     "name": "stdout",
     "output_type": "stream",
     "text": [
      "Together, texts 1 and 2 contain 9 unique words. These words are:\n",
      " {'sells', 'seashells', 'seashore', 'she', 'sale', 'on', 'are', 'the', 'by'}\n",
      "\n",
      "Together, texts 1 and 3 contain 12 unique words. These words are:\n",
      " {'lives', 'who', 'seashells', 'seashore', 'lake', 'john', 'to', 'she', '3', 'the', 'sells', 'by'}\n",
      "\n"
     ]
    }
   ],
   "source": [
    "for i, words_set in enumerate(words_sets[1:], 2):\n",
    "    total_words = words_set1 | words_set\n",
    "    print(f\"Together, texts 1 and {i} contain {len(total_words)} \"\n",
    "          f\"unique words. These words are:\\n {total_words}\\n\")"
   ]
  },
  {
   "cell_type": "code",
   "execution_count": 8,
   "metadata": {},
   "outputs": [
    {
     "name": "stdout",
     "output_type": "stream",
     "text": [
      "Together, texts 1 and 2 contain 9 unique words. \n",
      "44.44% of these words are shared. \n",
      "55.56% of these words diverge.\n",
      "\n",
      "Together, texts 1 and 3 contain 12 unique words. \n",
      "41.67% of these words are shared. \n",
      "58.33% of these words diverge.\n",
      "\n"
     ]
    }
   ],
   "source": [
    "for i, words_set in enumerate(words_sets[1:], 2):\n",
    "    shared_words = words_set1 & words_set\n",
    "    diverging_words = words_set1 ^ words_set\n",
    "    total_words = words_set1 | words_set\n",
    "    assert len(total_words) == len(shared_words) + len(diverging_words)\n",
    "    percent_shared = 100 * len(shared_words) / len(total_words)\n",
    "    percent_diverging = 100 * len(diverging_words) / len(total_words)\n",
    "\n",
    "    print(f\"Together, texts 1 and {i} contain {len(total_words)} \"\n",
    "          f\"unique words. \\n{percent_shared:.2f}% of these words are \"\n",
    "          f\"shared. \\n{percent_diverging:.2f}% of these words diverge.\\n\")"
   ]
  },
  {
   "cell_type": "code",
   "execution_count": 9,
   "metadata": {},
   "outputs": [
    {
     "name": "stdout",
     "output_type": "stream",
     "text": [
      "The Jaccard similarity between 'She sells seashells by the seashore.' and '\"Seashells! The seashells are on sale! By the seashore.\"' equals 0.4444.\n",
      "\n",
      "The Jaccard similarity between 'She sells seashells by the seashore.' and 'She sells 3 seashells to John, who lives by the lake.' equals 0.4167.\n",
      "\n"
     ]
    }
   ],
   "source": [
    "def jaccard_similarity(text_a, text_b):\n",
    "    word_set_a, word_set_b = [set(simplify_text(text).split())\n",
    "                              for text in [text_a, text_b]]\n",
    "    num_shared = len(word_set_a & word_set_b)\n",
    "    num_total = len(word_set_a | word_set_b)\n",
    "    return num_shared / num_total\n",
    "\n",
    "for text in [text2, text3]:\n",
    "    similarity = jaccard_similarity(text1, text)\n",
    "    print(f\"The Jaccard similarity between '{text1}' and '{text}' \"\n",
    "          f\"equals {similarity:.4f}.\" \"\\n\")"
   ]
  },
  {
   "cell_type": "code",
   "execution_count": 10,
   "metadata": {},
   "outputs": [],
   "source": [
    "def jaccard_similarity_efficient(text_a, text_b):\n",
    "    word_set_a, word_set_b = [set(simplify_text(text).split())\n",
    "                              for text in [text_a, text_b]]\n",
    "    num_shared = len(word_set_a & word_set_b)\n",
    "    num_total = len(word_set_a) + len(word_set_b) - num_shared\n",
    "    return num_shared / num_total\n",
    "\n",
    "for text in [text2, text3]:\n",
    "    similarity = jaccard_similarity_efficient(text1, text)\n",
    "    assert similarity == jaccard_similarity(text1, text)"
   ]
  },
  {
   "cell_type": "code",
   "execution_count": 11,
   "metadata": {},
   "outputs": [
    {
     "name": "stdout",
     "output_type": "stream",
     "text": [
      "Our vocabulary contains 15 words. This vocabulary is:\n",
      "{'lives': 0, 'who': 1, 'seashells': 2, 'seashore': 3, 'lake': 4, 'john': 5, 'to': 6, 'she': 7, 'sale': 8, 'are': 9, '3': 10, 'the': 11, 'sells': 12, 'on': 13, 'by': 14}\n"
     ]
    }
   ],
   "source": [
    "words_set1, words_set2, words_set3 = words_sets\n",
    "total_words = words_set1 | words_set2 | words_set3\n",
    "vocabulary = {word : i for i, word in enumerate(total_words)}\n",
    "value_to_word = {value: word for word, value in vocabulary.items()}\n",
    "print(f\"Our vocabulary contains {len(vocabulary)} words. \"\n",
    "      f\"This vocabulary is:\\n{vocabulary}\")"
   ]
  },
  {
   "cell_type": "code",
   "execution_count": 12,
   "metadata": {},
   "outputs": [
    {
     "data": {
      "image/png": "[encoded data removed]",
      "text/plain": [
       "<Figure size 432x288 with 2 Axes>"
      ]
     },
     "metadata": {
      "needs_background": "light"
     },
     "output_type": "display_data"
    }
   ],
   "source": [
    "import matplotlib.pyplot as plt\n",
    "import numpy as np\n",
    "import seaborn as sns\n",
    "\n",
    "vectors = []\n",
    "for i, words_set in enumerate(words_sets, 1):\n",
    "    vector = np.array([0] * len(vocabulary))\n",
    "    for word in words_set:\n",
    "        vector[vocabulary[word]] = 1\n",
    "    vectors.append(vector)\n",
    "\n",
    "sns.heatmap(vectors, annot=True,  cmap='YlGnBu',\n",
    "            xticklabels=vocabulary.keys(),\n",
    "yticklabels=['Text 1', 'Text 2', 'Text 3'])\n",
    "plt.yticks(rotation=0)\n",
    "plt.show()"
   ]
  },
  {
   "cell_type": "code",
   "execution_count": 13,
   "metadata": {},
   "outputs": [
    {
     "name": "stdout",
     "output_type": "stream",
     "text": [
      "'seashells' is present in both texts 1 and 2\n",
      "'seashore' is present in both texts 1 and 2\n",
      "'the' is present in both texts 1 and 2\n",
      "'by' is present in both texts 1 and 2\n"
     ]
    }
   ],
   "source": [
    "vector1, vector2 = vectors[:2]\n",
    "for i in range(len(vocabulary)):\n",
    "    if vector1[i] * vector2[i]:\n",
    "        shared_word = value_to_word[i]\n",
    "        print(f\"'{shared_word}' is present in both texts 1 and 2\")"
   ]
  },
  {
   "cell_type": "code",
   "execution_count": 14,
   "metadata": {},
   "outputs": [],
   "source": [
    "def tanimoto_similarity(vector_a, vector_b):\n",
    "    num_shared = vector_a @ vector_b\n",
    "    num_total = vector_a @ vector_a + vector_b @ vector_b - num_shared\n",
    "    return num_shared / num_total\n",
    "\n",
    "for i, text in enumerate([text2, text3], 1):\n",
    "    similarity = tanimoto_similarity(vector1, vectors[i])\n",
    "    assert similarity == jaccard_similarity(text1, text)"
   ]
  },
  {
   "cell_type": "code",
   "execution_count": 15,
   "metadata": {},
   "outputs": [
    {
     "name": "stdout",
     "output_type": "stream",
     "text": [
      "The similarity of 2 non-binary vectors is 0.96875\n"
     ]
    }
   ],
   "source": [
    "non_binary_vector1 = np.array([5, 3])\n",
    "non_binary_vector2 = np.array([5, 2])\n",
    "similarity = tanimoto_similarity(non_binary_vector1, non_binary_vector2)\n",
    "print(f\"The similarity of 2 non-binary vectors is {similarity}\")"
   ]
  },
  {
   "cell_type": "markdown",
   "metadata": {},
   "source": [
    "<h2>13.2  Vectorizing Texts Using Word Counts"
   ]
  },
  {
   "cell_type": "code",
   "execution_count": 16,
   "metadata": {},
   "outputs": [
    {
     "name": "stdout",
     "output_type": "stream",
     "text": [
      "The similarity between texts is approximately 0.024\n"
     ]
    }
   ],
   "source": [
    "similarity = tanimoto_similarity(np.array([61, 2]), np.array([1, 71]))\n",
    "print(f\"The similarity between texts is approximately {similarity:.3f}\")"
   ]
  },
  {
   "cell_type": "code",
   "execution_count": 17,
   "metadata": {},
   "outputs": [],
   "source": [
    "assert tanimoto_similarity(np.array([1, 1]), np.array([1, 1])) == 1"
   ]
  },
  {
   "cell_type": "code",
   "execution_count": 18,
   "metadata": {},
   "outputs": [
    {
     "data": {
      "image/png": "[encoded data removed]",
      "text/plain": [
       "<Figure size 432x288 with 2 Axes>"
      ]
     },
     "metadata": {
      "needs_background": "light"
     },
     "output_type": "display_data"
    }
   ],
   "source": [
    "tf_vectors = []\n",
    "for i, words_list in enumerate(words_lists, 1):\n",
    "    tf_vector = np.array([0] * len(vocabulary))\n",
    "    for word in words_list:\n",
    "        word_index = vocabulary[word]\n",
    "        # Update the count of each word using its vocabulary index.\n",
    "        tf_vector[word_index] += 1\n",
    "\n",
    "    tf_vectors.append(tf_vector)\n",
    "\n",
    "\n",
    "sns.heatmap(tf_vectors,  cmap='YlGnBu', annot=True,\n",
    "            xticklabels=vocabulary.keys(),\n",
    "yticklabels=['Text 1', 'Text 2', 'Text 3'])\n",
    "plt.yticks(rotation=0)\n",
    "plt.show()"
   ]
  },
  {
   "cell_type": "code",
   "execution_count": 19,
   "metadata": {},
   "outputs": [
    {
     "name": "stdout",
     "output_type": "stream",
     "text": [
      "The recomputed Tanimoto similarity between texts 1 and 2 is 0.4615.\n",
      "Previously, that similarity equaled 0.4444 \n",
      "\n",
      "The recomputed Tanimoto similarity between texts 1 and 3 is 0.4167.\n",
      "Previously, that similarity equaled 0.4167 \n",
      "\n"
     ]
    }
   ],
   "source": [
    "tf_vector1 = tf_vectors[0]\n",
    "binary_vector1 = vectors[0]\n",
    "\n",
    "for i, tf_vector in enumerate(tf_vectors[1:], 2):\n",
    "    similarity = tanimoto_similarity(tf_vector1, tf_vector)\n",
    "    old_similarity = tanimoto_similarity(binary_vector1, vectors[i - 1])\n",
    "    print(f\"The recomputed Tanimoto similarity between texts 1 and {i} is\"\n",
    "          f\" {similarity:.4f}.\")\n",
    "    print(f\"Previously, that similarity equaled {old_similarity:.4f} \" \"\\n\")"
   ]
  },
  {
   "cell_type": "code",
   "execution_count": 20,
   "metadata": {},
   "outputs": [],
   "source": [
    "query_vector = np.array([1, 1])\n",
    "title_a_vector = np.array([3, 3])\n",
    "title_b_vector = np.array([1, 0])"
   ]
  },
  {
   "cell_type": "code",
   "execution_count": 21,
   "metadata": {},
   "outputs": [
    {
     "name": "stdout",
     "output_type": "stream",
     "text": [
      "'B: Pepperoni' has a query similarity of 0.5000\n",
      "'A: Pepperoni Pizza! Pepperoni Pizza! Pepperoni Pizza!' has a query similarity of 0.4286\n"
     ]
    }
   ],
   "source": [
    "titles = [\"A: Pepperoni Pizza! Pepperoni Pizza! Pepperoni Pizza!\",\n",
    "          \"B: Pepperoni\"]\n",
    "title_vectors = [title_a_vector, title_b_vector]\n",
    "similarities = [tanimoto_similarity(query_vector, title_vector)\n",
    "                for title_vector in title_vectors]\n",
    "\n",
    "for index in sorted(range(len(titles)), key=lambda i: similarities[i],\n",
    "                    reverse=True):\n",
    "    title = titles[index]\n",
    "    similarity = similarities[index]\n",
    "    print(f\"'{title}' has a query similarity of {similarity:.4f}\")"
   ]
  },
  {
   "cell_type": "code",
   "execution_count": 22,
   "metadata": {},
   "outputs": [],
   "source": [
    "assert np.array_equal(query_vector, title_a_vector / 3)\n",
    "assert tanimoto_similarity(query_vector,\n",
    "                           title_a_vector / 3) == 1"
   ]
  },
  {
   "cell_type": "code",
   "execution_count": 23,
   "metadata": {},
   "outputs": [
    {
     "data": {
      "image/png": "[encoded data removed]",
      "text/plain": [
       "<Figure size 432x288 with 1 Axes>"
      ]
     },
     "metadata": {
      "needs_background": "light"
     },
     "output_type": "display_data"
    }
   ],
   "source": [
    "plt.plot([0, query_vector[0]], [0, query_vector[1]], c='k',\n",
    "         linewidth=3, label='Query Vector')\n",
    "plt.plot([0, title_a_vector[0]], [0, title_a_vector[1]], c='b',\n",
    "          linestyle='--', label='Title A Vector')\n",
    "plt.plot([0, title_b_vector[0]], [0, title_b_vector[1]], c='g',\n",
    "         linewidth=2, linestyle='-.', label='Title B Vector')\n",
    "plt.xlabel('Pepperoni')\n",
    "plt.ylabel('Pizza')\n",
    "plt.legend()\n",
    "plt.show()"
   ]
  },
  {
   "cell_type": "code",
   "execution_count": 24,
   "metadata": {},
   "outputs": [
    {
     "name": "stdout",
     "output_type": "stream",
     "text": [
      "Query Vector's magnitude is approximately 1.4142\n",
      "Title A Vector's magnitude is approximately 4.2426\n",
      "Title B Vector's magnitude is approximately 1.0000\n",
      "\n",
      "Vector A is 3x as long as Query Vector\n"
     ]
    }
   ],
   "source": [
    "from scipy.spatial.distance import euclidean\n",
    "from numpy.linalg import norm\n",
    "\n",
    "vector_names = ['Query Vector', 'Title A Vector', 'Title B Vector']\n",
    "tf_search_vectors = [query_vector, title_a_vector, title_b_vector]\n",
    "origin = np.array([0, 0])\n",
    "for name, tf_vector in zip(vector_names, tf_search_vectors):\n",
    "    magnitude = euclidean(tf_vector, origin)\n",
    "    assert magnitude == norm(tf_vector)\n",
    "    assert magnitude == (tf_vector @ tf_vector) ** 0.5\n",
    "    print(f\"{name}'s magnitude is approximately {magnitude:.4f}\")\n",
    "\n",
    "magnitude_ratio = norm(title_a_vector) / norm(query_vector)\n",
    "print(f\"\\nVector A is {magnitude_ratio:.0f}x as long as Query Vector\")"
   ]
  },
  {
   "cell_type": "code",
   "execution_count": 25,
   "metadata": {},
   "outputs": [
    {
     "data": {
      "image/png": "[encoded data removed]",
      "text/plain": [
       "<Figure size 432x288 with 1 Axes>"
      ]
     },
     "metadata": {
      "needs_background": "light"
     },
     "output_type": "display_data"
    }
   ],
   "source": [
    "unit_query_vector = query_vector / norm(query_vector)\n",
    "unit_title_a_vector = title_a_vector / norm(title_a_vector)\n",
    "np.array_equal(unit_query_vector, unit_title_a_vector)\n",
    "unit_title_b_vector = title_b_vector\n",
    "\n",
    "plt.plot([0, unit_query_vector[0]], [0, unit_query_vector[1]], c='k',\n",
    "         linewidth=3, label='Normalized Query Vector')\n",
    "plt.plot([0, unit_title_a_vector[0]], [0, unit_title_a_vector[1]], c='b',\n",
    "          linestyle='--', label='Normalized Title A Vector')\n",
    "plt.plot([0, unit_title_b_vector[0]], [0, unit_title_b_vector[1]], c='g',\n",
    "         linewidth=2, linestyle='-.', label='Title B Vector')\n",
    "\n",
    "plt.axis('equal')\n",
    "plt.legend()\n",
    "plt.show()"
   ]
  },
  {
   "cell_type": "code",
   "execution_count": 26,
   "metadata": {},
   "outputs": [
    {
     "name": "stdout",
     "output_type": "stream",
     "text": [
      "'A: Pepperoni Pizza! Pepperoni Pizza! Pepperoni Pizza!' has a normalized query similarity of 1.0000\n",
      "'B: Pepperoni' has a normalized query similarity of 0.5469\n"
     ]
    }
   ],
   "source": [
    "unit_title_vectors = [unit_title_a_vector, unit_title_b_vector]\n",
    "similarities = [tanimoto_similarity(unit_query_vector, unit_title_vector)\n",
    "                for unit_title_vector in unit_title_vectors]\n",
    "\n",
    "for index in sorted(range(len(titles)), key=lambda i: similarities[i],\n",
    "                    reverse=True):\n",
    "    title = titles[index]\n",
    "    similarity = similarities[index]\n",
    "    print(f\"'{title}' has a normalized query similarity of {similarity:.4f}\")"
   ]
  },
  {
   "cell_type": "code",
   "execution_count": 27,
   "metadata": {},
   "outputs": [],
   "source": [
    "def normalized_tanimoto(u1, u2):\n",
    "    dot_product = u1 @ u2\n",
    "    return dot_product / (2 - dot_product)\n",
    "\n",
    "for unit_title_vector in unit_title_vectors[1:]:\n",
    "    similarity = normalized_tanimoto(unit_query_vector, unit_title_vector)\n",
    "    assert similarity == tanimoto_similarity(unit_query_vector,\n",
    "                                             unit_title_vector)"
   ]
  },
  {
   "cell_type": "code",
   "execution_count": 28,
   "metadata": {},
   "outputs": [
    {
     "name": "stdout",
     "output_type": "stream",
     "text": [
      "We are comparing Normalized Query Vector and Normalized Title A vector\n",
      "The Tanimoto similarity between vectors is 1.0000\n",
      "The cosine similarity between vectors is 1.0000\n",
      "The Euclidean distance between vectors is 0.0000\n",
      "The angle between vectors is 0.0000 degrees\n",
      "\n",
      "We are comparing Normalized Query Vector and Title B Vector\n",
      "The Tanimoto similarity between vectors is 0.5469\n",
      "The cosine similarity between vectors is 0.7071\n",
      "The Euclidean distance between vectors is 0.7654\n",
      "The angle between vectors is 45.0000 degrees\n",
      "\n"
     ]
    }
   ],
   "source": [
    "unit_vector_names = ['Normalized Title A vector', 'Title B Vector']\n",
    "u1 = unit_query_vector\n",
    "\n",
    "for unit_vector_name, u2 in zip(unit_vector_names, unit_title_vectors):\n",
    "    similarity = normalized_tanimoto(u1, u2)\n",
    "    cosine_similarity  = 2 * similarity / (1 + similarity)\n",
    "    assert cosine_similarity == u1 @ u2\n",
    "    angle = np.arccos(cosine_similarity)\n",
    "    euclidean_distance = (2 - 2 * cosine_similarity) ** 0.5\n",
    "    assert round(euclidean_distance, 10) == round(euclidean(u1, u2), 10)\n",
    "    measurements = {'Tanimoto similarity': similarity,\n",
    "                    'cosine similarity': cosine_similarity,\n",
    "                    'Euclidean distance': euclidean_distance,\n",
    "                    'angle': np.degrees(angle)}\n",
    "\n",
    "    print(\"We are comparing Normalized Query Vector and \"\n",
    "           f\"{unit_vector_name}\")\n",
    "    for measurement_type, value in measurements.items():\n",
    "        output = f\"The {measurement_type} between vectors is {value:.4f}\"\n",
    "        if measurement_type == 'angle':\n",
    "            output += ' degrees\\n'\n",
    "\n",
    "        print(output)"
   ]
  },
  {
   "cell_type": "markdown",
   "metadata": {},
   "source": [
    "<h2>13.3  Matrix Multiplication for Efficient Similarity Calculation"
   ]
  },
  {
   "cell_type": "code",
   "execution_count": 29,
   "metadata": {},
   "outputs": [
    {
     "data": {
      "image/png": "[encoded data removed]",
      "text/plain": [
       "<Figure size 432x288 with 2 Axes>"
      ]
     },
     "metadata": {
      "needs_background": "light"
     },
     "output_type": "display_data"
    }
   ],
   "source": [
    "num_texts = len(tf_vectors)\n",
    "similarities = np.array([[0.0] * num_texts for _ in range(num_texts)])\n",
    "similarities = np.zeros((num_texts, num_texts))\n",
    "unit_vectors = np.array([vector / norm(vector) for vector in tf_vectors])\n",
    "for i, vector_a in enumerate(unit_vectors):\n",
    "    for j, vector_b in enumerate(unit_vectors):\n",
    "        similarities[i][j] = normalized_tanimoto(vector_a, vector_b)\n",
    "\n",
    "labels = ['Text 1', 'Text 2', 'Text 3']\n",
    "sns.heatmap(similarities,  cmap='YlGnBu', annot=True,\n",
    "            xticklabels=labels, yticklabels=labels)\n",
    "plt.yticks(rotation=0)\n",
    "plt.show()"
   ]
  },
  {
   "cell_type": "code",
   "execution_count": 30,
   "metadata": {},
   "outputs": [
    {
     "name": "stdout",
     "output_type": "stream",
     "text": [
      "Our Pandas DataFrame contains 3 rows and 15 columns\n",
      "Our 2D NumPy array contains 3 rows and 15 columns\n"
     ]
    }
   ],
   "source": [
    "import pandas as pd\n",
    "\n",
    "matrices = [unit_vectors, pd.DataFrame(unit_vectors)]\n",
    "matrix_types = ['Pandas DataFrame', '2D NumPy array']\n",
    "\n",
    "for matrix_type, matrix in zip(matrix_types, matrices):\n",
    "    row_count, column_count = matrix.shape\n",
    "    print(f\"Our {matrix_type} contains \"\n",
    "          f\"{row_count} rows and {column_count} columns\")\n",
    "    assert (column_count, row_count) == matrix.T.shape"
   ]
  },
  {
   "cell_type": "code",
   "execution_count": 31,
   "metadata": {},
   "outputs": [],
   "source": [
    "double_similarites = 2 * similarities\n",
    "np.array_equal(double_similarites, similarities + similarities)\n",
    "zero_matrix = similarities - similarities\n",
    "negative_1_matrix = similarities - similarities - 1\n",
    "\n",
    "for i in range(similarities.shape[0]):\n",
    "    for j in range(similarities.shape[1]):\n",
    "        assert double_similarites[i][j] == 2 * similarities[i][j]\n",
    "        assert zero_matrix[i][j] == 0\n",
    "        assert negative_1_matrix[i][j] == -1"
   ]
  },
  {
   "cell_type": "code",
   "execution_count": 32,
   "metadata": {},
   "outputs": [],
   "source": [
    "squared_similarities = similarities * similarities\n",
    "assert np.array_equal(squared_similarities, similarities ** 2)\n",
    "ones_matrix = similarities / similarities\n",
    "\n",
    "for i in range(similarities.shape[0]):\n",
    "    for j in range(similarities.shape[1]):\n",
    "        assert squared_similarities[i][j] == similarities[i][j] ** 2\n",
    "        assert ones_matrix[i][j] == 1"
   ]
  },
  {
   "cell_type": "code",
   "execution_count": 33,
   "metadata": {},
   "outputs": [],
   "source": [
    "cosine_similarities  = 2 * similarities / (1 + similarities)\n",
    "for i in range(similarities.shape[0]):\n",
    "    for j in range(similarities.shape[1]):\n",
    "        cosine_sim = unit_vectors[i] @ unit_vectors[j]\n",
    "        assert round(cosine_similarities[i][j],\n",
    "                     15) == round(cosine_sim, 15)"
   ]
  },
  {
   "cell_type": "code",
   "execution_count": 34,
   "metadata": {},
   "outputs": [
    {
     "name": "stdout",
     "output_type": "stream",
     "text": [
      "Accessing rows and columns in the Similarities Matrix.\n",
      "Row at index 0 is:\n",
      "[0.51442439 1.         0.26431921]\n",
      "\n",
      "Column at index 0 is:\n",
      "[0.51442439 1.         0.26431921]\n",
      "\n",
      "Accessing rows and columns in the Unit Vectors Matrix.\n",
      "Row at index 0 is:\n",
      "[0.        0.        0.5547002 0.2773501 0.        0.        0.\n",
      " 0.        0.2773501 0.2773501 0.        0.5547002 0.        0.2773501\n",
      " 0.2773501]\n",
      "\n",
      "Column at index 0 is:\n",
      "[0.         0.         0.30151134]\n",
      "\n"
     ]
    }
   ],
   "source": [
    "for name, matrix in [('Similarities', similarities),\n",
    "                     ('Unit Vectors', unit_vectors)]:\n",
    "    print(f\"Accessing rows and columns in the {name} Matrix.\")\n",
    "    row, column = matrix[1], matrix[:,1]\n",
    "    print(f\"Row at index 0 is:\\n{row}\")\n",
    "    print(f\"\\nColumn at index 0 is:\\n{column}\\n\")"
   ]
  },
  {
   "cell_type": "code",
   "execution_count": 35,
   "metadata": {},
   "outputs": [
    {
     "name": "stdout",
     "output_type": "stream",
     "text": [
      "The dot product between the row and column is: 0.1340\n"
     ]
    }
   ],
   "source": [
    "row = similarities[0]\n",
    "column = unit_vectors[:,0]\n",
    "dot_product = row @ column\n",
    "print(f\"The dot product between the row and column is: {dot_product:.4f}\")"
   ]
  },
  {
   "cell_type": "code",
   "execution_count": 36,
   "metadata": {},
   "outputs": [
    {
     "name": "stdout",
     "output_type": "stream",
     "text": [
      "The dot product between row 0 column 0 is: 0.1340\n",
      "The dot product between row 0 column 1 is: 0.1340\n",
      "The dot product between row 0 column 2 is: 0.8276\n",
      "The dot product between row 0 column 3 is: 0.5509\n",
      "The dot product between row 0 column 4 is: 0.1340\n",
      "The dot product between row 0 column 5 is: 0.1340\n",
      "The dot product between row 0 column 6 is: 0.1340\n",
      "The dot product between row 0 column 7 is: 0.5423\n",
      "The dot product between row 0 column 8 is: 0.1427\n",
      "The dot product between row 0 column 9 is: 0.1427\n",
      "The dot product between row 0 column 10 is: 0.1340\n",
      "The dot product between row 0 column 11 is: 0.8276\n",
      "The dot product between row 0 column 12 is: 0.5423\n",
      "The dot product between row 0 column 13 is: 0.1427\n",
      "The dot product between row 0 column 14 is: 0.6850\n",
      "The dot product between row 1 column 0 is: 0.0797\n",
      "The dot product between row 1 column 1 is: 0.0797\n",
      "The dot product between row 1 column 2 is: 0.8444\n",
      "The dot product between row 1 column 3 is: 0.4874\n",
      "The dot product between row 1 column 4 is: 0.0797\n",
      "The dot product between row 1 column 5 is: 0.0797\n",
      "The dot product between row 1 column 6 is: 0.0797\n",
      "The dot product between row 1 column 7 is: 0.2897\n",
      "The dot product between row 1 column 8 is: 0.2774\n",
      "The dot product between row 1 column 9 is: 0.2774\n",
      "The dot product between row 1 column 10 is: 0.0797\n",
      "The dot product between row 1 column 11 is: 0.8444\n",
      "The dot product between row 1 column 12 is: 0.2897\n",
      "The dot product between row 1 column 13 is: 0.2774\n",
      "The dot product between row 1 column 14 is: 0.5671\n",
      "The dot product between row 2 column 0 is: 0.3015\n",
      "The dot product between row 2 column 1 is: 0.3015\n",
      "The dot product between row 2 column 2 is: 0.6296\n",
      "The dot product between row 2 column 3 is: 0.2548\n",
      "The dot product between row 2 column 4 is: 0.3015\n",
      "The dot product between row 2 column 5 is: 0.3015\n",
      "The dot product between row 2 column 6 is: 0.3015\n",
      "The dot product between row 2 column 7 is: 0.4830\n",
      "The dot product between row 2 column 8 is: 0.0733\n",
      "The dot product between row 2 column 9 is: 0.0733\n",
      "The dot product between row 2 column 10 is: 0.3015\n",
      "The dot product between row 2 column 11 is: 0.6296\n",
      "The dot product between row 2 column 12 is: 0.4830\n",
      "The dot product between row 2 column 13 is: 0.0733\n",
      "The dot product between row 2 column 14 is: 0.5563\n"
     ]
    }
   ],
   "source": [
    "num_rows = similarities.shape[0]\n",
    "num_columns = unit_vectors.shape[1]\n",
    "for i in range(num_rows):\n",
    "    for j in range(num_columns):\n",
    "        row = similarities[i]\n",
    "        column = unit_vectors[:,j]\n",
    "        dot_product = row @ column\n",
    "        print(f\"The dot product between row {i} column {j} is: \"\n",
    "              f\"{dot_product:.4f}\")"
   ]
  },
  {
   "cell_type": "code",
   "execution_count": 37,
   "metadata": {},
   "outputs": [
    {
     "name": "stdout",
     "output_type": "stream",
     "text": [
      "[[0.13402795 0.13402795 0.82762755 0.55092394 0.13402795 0.13402795\n",
      "  0.13402795 0.54227624 0.14267565 0.14267565 0.13402795 0.82762755\n",
      "  0.54227624 0.14267565 0.6849519 ]\n",
      " [0.07969524 0.07969524 0.84440831 0.48736297 0.07969524 0.07969524\n",
      "  0.07969524 0.28970812 0.2773501  0.2773501  0.07969524 0.84440831\n",
      "  0.28970812 0.2773501  0.56705821]\n",
      " [0.30151134 0.30151134 0.62960397 0.25478367 0.30151134 0.30151134\n",
      "  0.30151134 0.48298605 0.07330896 0.07330896 0.30151134 0.62960397\n",
      "  0.48298605 0.07330896 0.55629501]]\n"
     ]
    }
   ],
   "source": [
    "dot_products = np.zeros((num_rows, num_columns))\n",
    "for i in range(num_rows):\n",
    "    for j in range(num_columns):\n",
    "        dot_products[i][j] = similarities[i] @ unit_vectors[:,j]\n",
    "\n",
    "print(dot_products)"
   ]
  },
  {
   "cell_type": "code",
   "execution_count": 38,
   "metadata": {},
   "outputs": [],
   "source": [
    "matrix_product = similarities @ unit_vectors\n",
    "assert np.allclose(matrix_product, dot_products)"
   ]
  },
  {
   "cell_type": "code",
   "execution_count": 39,
   "metadata": {},
   "outputs": [
    {
     "name": "stdout",
     "output_type": "stream",
     "text": [
      "We can't compute the matrix product\n"
     ]
    }
   ],
   "source": [
    "try:\n",
    "    matrix_product = unit_vectors @ similarities\n",
    "except:\n",
    "    print(\"We can't compute the matrix product\")"
   ]
  },
  {
   "cell_type": "code",
   "execution_count": 40,
   "metadata": {},
   "outputs": [],
   "source": [
    "matrix_product = np.matmul(similarities, unit_vectors)\n",
    "assert np.array_equal(matrix_product,\n",
    "                      similarities @ unit_vectors)"
   ]
  },
  {
   "cell_type": "code",
   "execution_count": 41,
   "metadata": {},
   "outputs": [
    {
     "data": {
      "image/png": "[encoded data removed]",
      "text/plain": [
       "<Figure size 432x288 with 1 Axes>"
      ]
     },
     "metadata": {
      "needs_background": "light"
     },
     "output_type": "display_data"
    }
   ],
   "source": [
    "import time\n",
    "\n",
    "numpy_run_times = []\n",
    "for_loop_run_times = []\n",
    "\n",
    "matrix_sizes = range(1, 101)\n",
    "for size in matrix_sizes:\n",
    "    matrix = np.ones((size, size))\n",
    "\n",
    "    start_time = time.time()\n",
    "    matrix @ matrix\n",
    "    numpy_run_times.append(time.time() - start_time)\n",
    "\n",
    "    start_time = time.time()\n",
    "    for i in range(size):\n",
    "        for j in range(size):\n",
    "            matrix[i] @ matrix[:,j]\n",
    "\n",
    "    for_loop_run_times.append(time.time() - start_time)\n",
    "\n",
    "plt.plot(matrix_sizes, numpy_run_times,\n",
    "         label='NumPy Matrix Product', linestyle='--')\n",
    "plt.plot(matrix_sizes, for_loop_run_times,\n",
    "         label='For-Loop Matrix Product', color='k')\n",
    "plt.xlabel('Row / Column Size')\n",
    "plt.ylabel('Running Time (Seconds)')\n",
    "plt.legend()\n",
    "plt.show()"
   ]
  },
  {
   "cell_type": "code",
   "execution_count": 42,
   "metadata": {},
   "outputs": [],
   "source": [
    "cosine_matrix = unit_vectors @ unit_vectors.T\n",
    "assert np.allclose(cosine_matrix, cosine_similarities)"
   ]
  },
  {
   "cell_type": "code",
   "execution_count": 43,
   "metadata": {},
   "outputs": [],
   "source": [
    "tanimoto_matrix = cosine_matrix / (2 - cosine_matrix)\n",
    "assert np.allclose(tanimoto_matrix, similarities)"
   ]
  },
  {
   "cell_type": "code",
   "execution_count": 44,
   "metadata": {},
   "outputs": [],
   "source": [
    "output = normalized_tanimoto(unit_vectors, unit_vectors.T)\n",
    "assert np.array_equal(output, tanimoto_matrix)"
   ]
  },
  {
   "cell_type": "code",
   "execution_count": 45,
   "metadata": {},
   "outputs": [
    {
     "name": "stdout",
     "output_type": "stream",
     "text": [
      "It took 0.0060 seconds to compute the similarities across a 30-book by 50000-word matrix\n"
     ]
    }
   ],
   "source": [
    "vocabulary_size = 50000\n",
    "normalized_vector = [1 / vocabulary_size] * vocabulary_size\n",
    "book_count = 30\n",
    "\n",
    "def measure_run_time(book_count):\n",
    "    book_matrix = np.array([normalized_vector] * book_count)\n",
    "    start_time = time.time()\n",
    "    normalized_tanimoto(book_matrix, book_matrix.T)\n",
    "    return time.time() - start_time\n",
    "\n",
    "run_time = measure_run_time(book_count)\n",
    "print(f\"It took {run_time:.4f} seconds to compute the similarities across a \"\n",
    "      f\"{book_count}-book by {vocabulary_size}-word matrix\")"
   ]
  },
  {
   "cell_type": "code",
   "execution_count": 46,
   "metadata": {},
   "outputs": [
    {
     "data": {
      "image/png": "[encoded data removed]",
      "text/plain": [
       "<Figure size 432x288 with 1 Axes>"
      ]
     },
     "metadata": {
      "needs_background": "light"
     },
     "output_type": "display_data"
    }
   ],
   "source": [
    "book_counts = range(30, 1000, 30)\n",
    "run_times = [measure_run_time(book_count)\n",
    "             for book_count in book_counts]\n",
    "plt.scatter(book_counts, run_times)\n",
    "plt.xlabel('Book Count')\n",
    "plt.ylabel('Running Time (Seconds)')\n",
    "plt.show()"
   ]
  },
  {
   "cell_type": "code",
   "execution_count": 47,
   "metadata": {},
   "outputs": [
    {
     "data": {
      "image/png": "[encoded data removed]",
      "text/plain": [
       "<Figure size 432x288 with 1 Axes>"
      ]
     },
     "metadata": {
      "needs_background": "light"
     },
     "output_type": "display_data"
    }
   ],
   "source": [
    "def y(x): return (0.27 / (1000 ** 2)) * (x ** 2)\n",
    "plt.scatter(book_counts, run_times)\n",
    "plt.plot(book_counts, y(np.array(book_counts)), c='k')\n",
    "plt.xlabel('Book Count')\n",
    "plt.ylabel('Running Time (Seconds)')\n",
    "plt.show()"
   ]
  },
  {
   "cell_type": "code",
   "execution_count": 48,
   "metadata": {},
   "outputs": [
    {
     "name": "stdout",
     "output_type": "stream",
     "text": [
      "It will take 6.75 hours to compute all-by-all similarities from a 300000-book by 50000-word matrix\n"
     ]
    }
   ],
   "source": [
    "book_count = 300000\n",
    "run_time = y(book_count) / 3600\n",
    "print(f\"It will take {run_time} hours to compute all-by-all similarities \"\n",
    "      f\"from a {book_count}-book by {vocabulary_size}-word matrix\")"
   ]
  },
  {
   "cell_type": "markdown",
   "metadata": {},
   "source": [
    "<h1>14 Dimension Reduction of Matrix Data"
   ]
  },
  {
   "cell_type": "code",
   "execution_count": 49,
   "metadata": {},
   "outputs": [
    {
     "data": {
      "image/png": "[encoded data removed]",
      "text/plain": [
       "<Figure size 432x288 with 1 Axes>"
      ]
     },
     "metadata": {
      "needs_background": "light"
     },
     "output_type": "display_data"
    }
   ],
   "source": [
    "import numpy as np\n",
    "heights = np.arange(60, 78, 0.1)\n",
    "np.random.seed(0)\n",
    "random_fluctuations = np.random.normal(scale=10, size=heights.size)\n",
    "weights = 4 * heights - 130 + random_fluctuations\n",
    "import matplotlib.pyplot as plt\n",
    "measurements = np.array([heights, weights])\n",
    "plt.scatter(measurements[0], measurements[1])\n",
    "plt.xlabel('Height (in)')\n",
    "plt.ylabel('Weight (lb)')\n",
    "plt.axis('equal')\n",
    "plt.show()"
   ]
  },
  {
   "cell_type": "code",
   "execution_count": 50,
   "metadata": {},
   "outputs": [
    {
     "data": {
      "image/png": "[encoded data removed]",
      "text/plain": [
       "<Figure size 432x288 with 1 Axes>"
      ]
     },
     "metadata": {
      "needs_background": "light"
     },
     "output_type": "display_data"
    }
   ],
   "source": [
    "centered_data = np.array([heights - heights.mean(),\n",
    "                          weights - weights.mean()])\n",
    "plt.scatter(centered_data[0], centered_data[1])\n",
    "plt.axhline(0, c='black')\n",
    "plt.axvline(0, c='black')\n",
    "plt.xlabel('Centralized Height (in)')\n",
    "plt.ylabel('Centralized Weight (lb)')\n",
    "plt.axis('equal')\n",
    "plt.show()"
   ]
  },
  {
   "cell_type": "code",
   "execution_count": 51,
   "metadata": {},
   "outputs": [
    {
     "data": {
      "image/png": "[encoded data removed]",
      "text/plain": [
       "<Figure size 432x288 with 1 Axes>"
      ]
     },
     "metadata": {
      "needs_background": "light"
     },
     "output_type": "display_data"
    }
   ],
   "source": [
    "from math import sin, cos\n",
    "angle = np.radians(-90)\n",
    "rotation_matrix = np.array([[cos(angle), -sin(angle)],\n",
    "                            [sin(angle), cos(angle)]])\n",
    "\n",
    "rotated_data = rotation_matrix @ centered_data\n",
    "plt.scatter(centered_data[0], centered_data[1], label='Original Data')\n",
    "plt.scatter(rotated_data[0], rotated_data[1], c='y', label='Rotated Data')\n",
    "plt.axhline(0, c='black')\n",
    "plt.axvline(0, c='black')\n",
    "plt.legend()\n",
    "plt.axis('equal')\n",
    "plt.show()"
   ]
  },
  {
   "cell_type": "code",
   "execution_count": 52,
   "metadata": {},
   "outputs": [
    {
     "name": "stdout",
     "output_type": "stream",
     "text": [
      "The penalty score for the unrotated data is 519.82\n",
      "The penalty score for the rotated data is 27.00\n"
     ]
    }
   ],
   "source": [
    "data_labels = ['unrotated', 'rotated']\n",
    "data_list = [centered_data, rotated_data]\n",
    "for data_label, data in zip(data_labels, data_list):\n",
    "    y_values = data[1]\n",
    "    penalty = y_values @ y_values / y_values.size\n",
    "    print(f\"The penalty score for the {data_label} data is {penalty:.2f}\")"
   ]
  },
  {
   "cell_type": "code",
   "execution_count": 53,
   "metadata": {},
   "outputs": [
    {
     "name": "stdout",
     "output_type": "stream",
     "text": [
      "519.8206294035247\n",
      "519.8206294035248\n",
      "The y-axis variance for the unrotated data is 519.82\n",
      "26.999166666667417\n",
      "26.999166666667417\n",
      "The y-axis variance for the rotated data is 27.00\n"
     ]
    }
   ],
   "source": [
    "for data_label, data in zip(data_labels, data_list):\n",
    "    y_var = data[1].var()\n",
    "    print(y_var)\n",
    "    print(data[1] @ data[1] / data[1].size)\n",
    "    #    assert y_var == data[1] @ data[1] / data[1].size\n",
    "    print(f\"The y-axis variance for the {data_label} data is {y_var:.2f}\")"
   ]
  },
  {
   "cell_type": "code",
   "execution_count": 54,
   "metadata": {},
   "outputs": [
    {
     "name": "stdout",
     "output_type": "stream",
     "text": [
      "The x-axis variance for the unrotated data is 27.00\n",
      "The x-axis variance for the rotated data is 519.82\n"
     ]
    }
   ],
   "source": [
    "for data_label, data in zip(data_labels, data_list):\n",
    "    x_var = data[0].var()\n",
    "    print(f\"The x-axis variance for the {data_label} data is {x_var:.2f}\")"
   ]
  },
  {
   "cell_type": "code",
   "execution_count": 55,
   "metadata": {},
   "outputs": [],
   "source": [
    "total_variance = centered_data[0].var() + centered_data[1].var()\n",
    "assert total_variance == rotated_data[0].var() + rotated_data[1].var()"
   ]
  },
  {
   "cell_type": "code",
   "execution_count": 56,
   "metadata": {},
   "outputs": [
    {
     "name": "stdout",
     "output_type": "stream",
     "text": [
      "In the unrotated data, 4.94% of the total variance is distributed across the x-axis\n",
      "The remaining 95.06% of the total variance is distributed across the y-axis\n",
      "\n",
      "In the rotated data, 95.06% of the total variance is distributed across the x-axis\n",
      "The remaining 4.94% of the total variance is distributed across the y-axis\n",
      "\n"
     ]
    }
   ],
   "source": [
    "for data_label, data in zip(data_labels, data_list):\n",
    "    percent_x_axis_var = 100 * data[0].var() / total_variance\n",
    "    percent_y_axis_var = 100 * data[1].var() / total_variance\n",
    "    print(f\"In the {data_label} data, {percent_x_axis_var:.2f}% of the \"\n",
    "           \"total variance is distributed across the x-axis\")\n",
    "    print(f\"The remaining {percent_y_axis_var:.2f}% of the total \"\n",
    "           \"variance is distributed across the y-axis\\n\")"
   ]
  },
  {
   "cell_type": "code",
   "execution_count": 57,
   "metadata": {},
   "outputs": [
    {
     "data": {
      "image/png": "[encoded data removed]",
      "text/plain": [
       "<Figure size 432x288 with 1 Axes>"
      ]
     },
     "metadata": {
      "needs_background": "light"
     },
     "output_type": "display_data"
    },
    {
     "name": "stdout",
     "output_type": "stream",
     "text": [
      "The horizontal variance is maximized to approximately 541 after a 78.3 degree rotation.\n",
      "That rotation distributes 99.08% of the total variance onto the x-axis.\n"
     ]
    }
   ],
   "source": [
    "def rotate(angle, data=centered_data):\n",
    "    angle = np.radians(-angle)\n",
    "    rotation_matrix = np.array([[cos(angle), -sin(angle)],\n",
    "                                [sin(angle), cos(angle)]])\n",
    "    return rotation_matrix @ data\n",
    "\n",
    "angles = np.arange(1, 180, 0.1)\n",
    "x_variances = [(rotate(angle)[0].var()) for angle in angles]\n",
    "\n",
    "percent_x_variances = 100 * np.array(x_variances) / total_variance\n",
    "optimal_index = np.argmax(percent_x_variances)\n",
    "optimal_angle = angles[optimal_index]\n",
    "plt.plot(angles, percent_x_variances)\n",
    "plt.axvline(optimal_angle, c='k')\n",
    "plt.xlabel('Angle (degrees)')\n",
    "plt.ylabel('% x-axis coverage')\n",
    "plt.show()\n",
    "\n",
    "max_coverage = percent_x_variances[optimal_index]\n",
    "max_x_var = x_variances[optimal_index]\n",
    "\n",
    "print(\"The horizontal variance is maximized to approximately \"\n",
    "      f\"{int(max_x_var)} after a {optimal_angle:.1f} degree rotation.\")\n",
    "print(f\"That rotation distributes {max_coverage:.2f}% of the total \"\n",
    "       \"variance onto the x-axis.\")"
   ]
  },
  {
   "cell_type": "code",
   "execution_count": 58,
   "metadata": {},
   "outputs": [
    {
     "data": {
      "image/png": "[encoded data removed]",
      "text/plain": [
       "<Figure size 432x288 with 1 Axes>"
      ]
     },
     "metadata": {
      "needs_background": "light"
     },
     "output_type": "display_data"
    }
   ],
   "source": [
    "best_rotated_data = rotate(optimal_angle)\n",
    "plt.scatter(best_rotated_data[0], best_rotated_data[1])\n",
    "plt.axhline(0, c='black')\n",
    "plt.axvline(0, c='black')\n",
    "plt.axis('equal')\n",
    "plt.show()"
   ]
  },
  {
   "cell_type": "code",
   "execution_count": 59,
   "metadata": {},
   "outputs": [
    {
     "name": "stdout",
     "output_type": "stream",
     "text": [
      "A 1D threshold of -14.61 seperates the small-sized and medium-sized customers.\n",
      "A 1D threshold of 15.80 seperates the medium-sized and large-sized customers.\n"
     ]
    }
   ],
   "source": [
    "x_values = best_rotated_data[0]\n",
    "sorted_x_values = sorted(x_values)\n",
    "cluster_size = int(x_values.size / 3)\n",
    "small_cutoff = max(sorted_x_values[:cluster_size])\n",
    "large_cutoff = min(sorted_x_values[-cluster_size:])\n",
    "print(f\"A 1D threshold of {small_cutoff:.2f} seperates the small-sized \"\n",
    "           \"and medium-sized customers.\")\n",
    "print(f\"A 1D threshold of {large_cutoff:.2f} seperates the medium-sized \"\n",
    "                \"and large-sized customers.\")"
   ]
  },
  {
   "cell_type": "code",
   "execution_count": 60,
   "metadata": {},
   "outputs": [
    {
     "data": {
      "image/png": "[encoded data removed]",
      "text/plain": [
       "<Figure size 432x288 with 1 Axes>"
      ]
     },
     "metadata": {
      "needs_background": "light"
     },
     "output_type": "display_data"
    }
   ],
   "source": [
    "def plot_customer_segments(horizontal_2d_data):\n",
    "    small, medium, large = [], [], []\n",
    "    cluster_labels = ['Small', 'Medium', 'Large']\n",
    "    for x_value, y_value in horizontal_2d_data.T:\n",
    "        if x_value <= small_cutoff:\n",
    "            small.append([x_value, y_value])\n",
    "        elif small_cutoff < x_value < large_cutoff:\n",
    "            medium.append([x_value, y_value])\n",
    "        else:\n",
    "            large.append([x_value, y_value])\n",
    "\n",
    "    for i, cluster in enumerate([small, medium, large]):\n",
    "        cluster_x_values, cluster_y_values = np.array(cluster).T\n",
    "        plt.scatter(cluster_x_values, cluster_y_values,\n",
    "                    color=['g', 'b', 'y'][i],\n",
    "                    label=cluster_labels[i])\n",
    "\n",
    "    plt.axhline(0, c='black')\n",
    "    plt.axvline(large_cutoff, c='black', linewidth=3, linestyle='--')\n",
    "    plt.axvline(small_cutoff, c='black', linewidth=3, linestyle='--')\n",
    "    plt.axis('equal')\n",
    "    plt.legend()\n",
    "    plt.show()\n",
    "\n",
    "plot_customer_segments(best_rotated_data)"
   ]
  },
  {
   "cell_type": "code",
   "execution_count": 61,
   "metadata": {},
   "outputs": [
    {
     "data": {
      "image/png": "[encoded data removed]",
      "text/plain": [
       "<Figure size 432x288 with 1 Axes>"
      ]
     },
     "metadata": {
      "needs_background": "light"
     },
     "output_type": "display_data"
    }
   ],
   "source": [
    "zero_y_values = np.zeros(x_values.size)\n",
    "reproduced_data = rotate(-optimal_angle, data=[x_values, zero_y_values])\n",
    "plt.plot(reproduced_data[0], reproduced_data[1], c='k',\n",
    "         label='Reproduced Data')\n",
    "plt.scatter(centered_data[0], centered_data[1], c='y',\n",
    "            label='Original Data')\n",
    "plt.axis('equal')\n",
    "plt.legend()\n",
    "plt.show()"
   ]
  },
  {
   "cell_type": "code",
   "execution_count": 62,
   "metadata": {},
   "outputs": [
    {
     "data": {
      "image/png": "[encoded data removed]",
      "text/plain": [
       "<Figure size 432x288 with 1 Axes>"
      ]
     },
     "metadata": {
      "needs_background": "light"
     },
     "output_type": "display_data"
    }
   ],
   "source": [
    "np.random.seed(1)\n",
    "new_heights = np.arange(60, 78, .11)\n",
    "random_fluctuations = np.random.normal(scale=10, size=new_heights.size)\n",
    "new_weights =  4 * new_heights - 130 + random_fluctuations\n",
    "new_centered_data = np.array([new_heights - heights.mean(),\n",
    "                              new_weights - weights.mean()])\n",
    "plt.scatter(new_centered_data[0], new_centered_data[1], c='y',\n",
    "            label='New Customer Data')\n",
    "plt.plot(reproduced_data[0], reproduced_data[1], c='k',\n",
    "         label='First Principal Direction')\n",
    "plt.xlabel('Centralized Height (in)')\n",
    "plt.ylabel('Centralized Weight (lb)')\n",
    "plt.axis('equal')\n",
    "plt.legend()\n",
    "plt.show()"
   ]
  },
  {
   "cell_type": "code",
   "execution_count": 63,
   "metadata": {},
   "outputs": [
    {
     "data": {
      "image/png": "[encoded data removed]",
      "text/plain": [
       "<Figure size 432x288 with 1 Axes>"
      ]
     },
     "metadata": {
      "needs_background": "light"
     },
     "output_type": "display_data"
    }
   ],
   "source": [
    "new_horizontal_data = rotate(optimal_angle, data=new_centered_data)\n",
    "plot_customer_segments(new_horizontal_data)"
   ]
  },
  {
   "cell_type": "markdown",
   "metadata": {},
   "source": [
    "<h2>14.2  Dimension Reduction Using PCA and Scikit-Learn"
   ]
  },
  {
   "cell_type": "code",
   "execution_count": 64,
   "metadata": {},
   "outputs": [
    {
     "data": {
      "image/png": "[encoded data removed]",
      "text/plain": [
       "<Figure size 432x288 with 1 Axes>"
      ]
     },
     "metadata": {
      "needs_background": "light"
     },
     "output_type": "display_data"
    }
   ],
   "source": [
    "from sklearn.decomposition import PCA\n",
    "pca_object = PCA()\n",
    "pca_transformed_data = pca_object.fit_transform(measurements.T)\n",
    "plt.scatter(pca_transformed_data[:,0], pca_transformed_data[:,1])\n",
    "plt.axhline(0, c='black')\n",
    "plt.axvline(0, c='black')\n",
    "plt.axis('equal')\n",
    "plt.show()"
   ]
  },
  {
   "cell_type": "code",
   "execution_count": 65,
   "metadata": {},
   "outputs": [
    {
     "name": "stdout",
     "output_type": "stream",
     "text": [
      "The x-axis of our PCA output covers 99.08% of the total variance\n"
     ]
    }
   ],
   "source": [
    "percent_variance_coverages = 100 * pca_object.explained_variance_ratio_\n",
    "x_axis_coverage, y_axis_coverage = percent_variance_coverages\n",
    "print(f\"The x-axis of our PCA output covers {x_axis_coverage:.2f}% of \"\n",
    "       \"the total variance\")"
   ]
  },
  {
   "cell_type": "code",
   "execution_count": 66,
   "metadata": {},
   "outputs": [
    {
     "name": "stdout",
     "output_type": "stream",
     "text": [
      "Vector [-0.20223994 -0.979336  ] points in a direction that covers 99.08% of the total variance.\n",
      "The vector has a magnitude of 0.9999999999999999\n"
     ]
    }
   ],
   "source": [
    "first_pc = pca_object.components_[0]\n",
    "magnitude = norm(first_pc)\n",
    "print(f\"Vector {first_pc} points in a direction that covers \"\n",
    "      f\"{x_axis_coverage:.2f}% of the total variance.\")\n",
    "print(f\"The vector has a magnitude of {magnitude}\")"
   ]
  },
  {
   "cell_type": "code",
   "execution_count": 67,
   "metadata": {},
   "outputs": [
    {
     "data": {
      "image/png": "[encoded data removed]",
      "text/plain": [
       "<Figure size 432x288 with 1 Axes>"
      ]
     },
     "metadata": {
      "needs_background": "light"
     },
     "output_type": "display_data"
    }
   ],
   "source": [
    "def plot_stretched_vector(v, **kwargs):\n",
    "    plt.plot([-50 * v[0], 50 * v[0]], [-50 * v[1], 50 * v[1]], **kwargs)\n",
    "\n",
    "plt.plot(reproduced_data[0], reproduced_data[1], c='k',\n",
    "         label='First Principal Direction')\n",
    "plt.scatter(centered_data[0], centered_data[1], c='y')\n",
    "plt.xlabel('Centralized Height (in)')\n",
    "plt.ylabel('Centralized Weight (lb)')\n",
    "plt.axis('equal')\n",
    "plt.legend()\n",
    "plt.show()"
   ]
  },
  {
   "cell_type": "code",
   "execution_count": 68,
   "metadata": {},
   "outputs": [
    {
     "data": {
      "image/png": "[encoded data removed]",
      "text/plain": [
       "<Figure size 432x288 with 1 Axes>"
      ]
     },
     "metadata": {
      "needs_background": "light"
     },
     "output_type": "display_data"
    }
   ],
   "source": [
    "principal_components = pca_object.components_\n",
    "for i, pc in enumerate(principal_components):\n",
    "    plot_stretched_vector(pc, c='k',\n",
    "                          label='Principal Directions' if i == 0 else None)\n",
    "\n",
    "for i, axis_vector in enumerate([np.array([0, 1]), np.array([1, 0])]):\n",
    "    plot_stretched_vector(axis_vector,  c='g', linestyle='-.',\n",
    "                          label='Axes' if i == 0 else None)\n",
    "\n",
    "plt.scatter(centered_data[0], centered_data[1], c='y')\n",
    "plt.xlabel('Centralized Height (in)')\n",
    "plt.ylabel('Centralized Weight (lb)')\n",
    "plt.axis('equal')\n",
    "plt.legend()\n",
    "plt.show()"
   ]
  },
  {
   "cell_type": "code",
   "execution_count": 69,
   "metadata": {},
   "outputs": [],
   "source": [
    "projections = principal_components @ centered_data\n",
    "assert np.allclose(pca_transformed_data.T, projections)"
   ]
  },
  {
   "cell_type": "code",
   "execution_count": 70,
   "metadata": {},
   "outputs": [
    {
     "name": "stdout",
     "output_type": "stream",
     "text": [
      "150 flowers have been measured.\n",
      "4 measurements were recorded for every flower.\n",
      "The first flower has the following measurements (in cm): [5.1 3.5 1.4 0.2]\n"
     ]
    }
   ],
   "source": [
    "from sklearn.datasets import load_iris\n",
    "flower_data = load_iris()\n",
    "flower_measurements = flower_data['data']\n",
    "num_flowers, num_measurements = flower_measurements.shape\n",
    "print(f\"{num_flowers} flowers have been measured.\")\n",
    "print(f\"{num_measurements} measurements were recorded for every flower.\")\n",
    "print(\"The first flower has the following measurements (in cm): \"\n",
    "      f\"{flower_measurements[0]}\")"
   ]
  },
  {
   "cell_type": "code",
   "execution_count": 71,
   "metadata": {},
   "outputs": [
    {
     "name": "stdout",
     "output_type": "stream",
     "text": [
      "The matrix contains 150 rows, corresponding to 150 recorded flowers.\n",
      "It also contains 2 columns, corresponding to 2 dimensions.\n"
     ]
    }
   ],
   "source": [
    "pca_object_2D = PCA(n_components=2)\n",
    "transformed_data_2D = pca_object_2D.fit_transform(flower_measurements)\n",
    "row_count, column_count = transformed_data_2D.shape\n",
    "print(f\"The matrix contains {row_count} rows, corresponding to \"\n",
    "      f\"{row_count} recorded flowers.\")\n",
    "print(f\"It also contains {column_count} columns, corresponding to \"\n",
    "      f\"{column_count} dimensions.\")"
   ]
  },
  {
   "cell_type": "code",
   "execution_count": 72,
   "metadata": {},
   "outputs": [
    {
     "name": "stdout",
     "output_type": "stream",
     "text": [
      "The x-axis covers 92.46% of the total variance\n",
      "The y-axis covers 5.31% of the total variance\n",
      "Together, the 2 axes cover 97.77% of the total variance\n"
     ]
    }
   ],
   "source": [
    "def print_2D_variance_coverage(pca_object):\n",
    "    percent_var_coverages = 100 * pca_object.explained_variance_ratio_\n",
    "    x_axis_coverage, y_axis_coverage = percent_var_coverages\n",
    "    total_coverage = x_axis_coverage + y_axis_coverage\n",
    "    print(f\"The x-axis covers {x_axis_coverage:.2f}% \"\n",
    "            \"of the total variance\")\n",
    "    print(f\"The y-axis covers {y_axis_coverage:.2f}% \"\n",
    "           \"of the total variance\")\n",
    "    print(f\"Together, the 2 axes cover {total_coverage:.2f}% \"\n",
    "           \"of the total variance\")\n",
    "\n",
    "print_2D_variance_coverage(pca_object_2D)"
   ]
  },
  {
   "cell_type": "code",
   "execution_count": 73,
   "metadata": {},
   "outputs": [
    {
     "data": {
      "image/png": "[encoded data removed]",
      "text/plain": [
       "<Figure size 432x288 with 1 Axes>"
      ]
     },
     "metadata": {
      "needs_background": "light"
     },
     "output_type": "display_data"
    }
   ],
   "source": [
    "plt.scatter(transformed_data_2D[:,0], transformed_data_2D[:,1])\n",
    "plt.show()"
   ]
  },
  {
   "cell_type": "code",
   "execution_count": 74,
   "metadata": {},
   "outputs": [
    {
     "data": {
      "image/png": "[encoded data removed]",
      "text/plain": [
       "<Figure size 432x288 with 1 Axes>"
      ]
     },
     "metadata": {
      "needs_background": "light"
     },
     "output_type": "display_data"
    }
   ],
   "source": [
    "def visualize_flower_data(dim_reduced_data):\n",
    "    species_names = flower_data['target_names']\n",
    "    for i, species in enumerate(species_names):\n",
    "        species_data = np.array([dim_reduced_data[j]\n",
    "                                 for j in range(dim_reduced_data.shape[0])\n",
    "                                 if flower_data['target'][j] == i]).T\n",
    "        plt.scatter(species_data[0], species_data[1], label=species.title(),\n",
    "                     color=['g', 'k', 'y'][i])\n",
    "    plt.legend()\n",
    "    plt.show()\n",
    "\n",
    "visualize_flower_data(transformed_data_2D)"
   ]
  },
  {
   "cell_type": "code",
   "execution_count": 75,
   "metadata": {},
   "outputs": [
    {
     "name": "stdout",
     "output_type": "stream",
     "text": [
      "The sample could be a Satosa\n"
     ]
    }
   ],
   "source": [
    "def detect_setosa(flower_sample):\n",
    "    centered_sample = flower_sample - pca_object_2D.mean_\n",
    "    projection = pca_object_2D.components_[0] @ centered_sample\n",
    "    is_setosa = projection < 2\n",
    "    if projection < 2:\n",
    "        print(\"The sample could be a Satosa\")\n",
    "    else:\n",
    "        print(\"The sample is not a Satosa\")\n",
    "\n",
    "new_flower_sample = np.array([4.8, 3.7, 1.2, 0.24])\n",
    "detect_setosa(new_flower_sample)"
   ]
  },
  {
   "cell_type": "code",
   "execution_count": 76,
   "metadata": {},
   "outputs": [
    {
     "name": "stdout",
     "output_type": "stream",
     "text": [
      "The variance of the first axis is: 0.68\n",
      "We've converted the measurements from cm to mm.\n",
      "That variance now equals 68.11\n"
     ]
    }
   ],
   "source": [
    "first_axis_var = flower_measurements[:,0].var()\n",
    "print(f\"The variance of the first axis is: {first_axis_var:.2f}\")\n",
    "\n",
    "flower_measurements[:,0] *= 10\n",
    "first_axis_var = flower_measurements[:,0].var()\n",
    "print(\"We've converted the measurements from cm to mm.\\nThat variance \"\n",
    "      f\"now equals {first_axis_var:.2f}\")"
   ]
  },
  {
   "cell_type": "code",
   "execution_count": 77,
   "metadata": {},
   "outputs": [
    {
     "name": "stdout",
     "output_type": "stream",
     "text": [
      "The x-axis covers 98.49% of the total variance\n",
      "The y-axis covers 1.32% of the total variance\n",
      "Together, the 2 axes cover 99.82% of the total variance\n"
     ]
    }
   ],
   "source": [
    "pca_object_2D.fit_transform(flower_measurements)\n",
    "print_2D_variance_coverage(pca_object_2D)"
   ]
  },
  {
   "cell_type": "code",
   "execution_count": 78,
   "metadata": {},
   "outputs": [
    {
     "name": "stdout",
     "output_type": "stream",
     "text": [
      "The x-axis covers 94.00% of the total variance\n",
      "The y-axis covers 3.67% of the total variance\n",
      "Together, the 2 axes cover 97.67% of the total variance\n"
     ]
    }
   ],
   "source": [
    "for i in range(flower_measurements.shape[1]):\n",
    "    flower_measurements[:,i] /= norm(flower_measurements[:,i])\n",
    "\n",
    "transformed_data_2D = pca_object_2D.fit_transform(flower_measurements)\n",
    "print_2D_variance_coverage(pca_object_2D)"
   ]
  },
  {
   "cell_type": "code",
   "execution_count": 79,
   "metadata": {},
   "outputs": [
    {
     "data": {
      "image/png": "[encoded data removed]",
      "text/plain": [
       "<Figure size 432x288 with 1 Axes>"
      ]
     },
     "metadata": {
      "needs_background": "light"
     },
     "output_type": "display_data"
    }
   ],
   "source": [
    "visualize_flower_data(transformed_data_2D)"
   ]
  },
  {
   "cell_type": "markdown",
   "metadata": {},
   "source": [
    "<h2>14.4  Computing Principal Componets Without Rotation"
   ]
  },
  {
   "cell_type": "code",
   "execution_count": 80,
   "metadata": {},
   "outputs": [
    {
     "name": "stdout",
     "output_type": "stream",
     "text": [
      "Covariance matrix:\n",
      " [[ 26.99916667 106.30456732]\n",
      " [106.30456732 519.8206294 ]]\n"
     ]
    }
   ],
   "source": [
    "cov_matrix = centered_data @ centered_data.T / centered_data.shape[1]\n",
    "print(f\"Covariance matrix:\\n {cov_matrix}\")\n",
    "for i in range(centered_data.shape[0]):\n",
    "    variance = cov_matrix[i][i]\n",
    "    assert round(variance, 10) == round(centered_data[i].var(), 10)"
   ]
  },
  {
   "cell_type": "code",
   "execution_count": 81,
   "metadata": {},
   "outputs": [
    {
     "data": {
      "image/png": "[encoded data removed]",
      "text/plain": [
       "<Figure size 432x288 with 1 Axes>"
      ]
     },
     "metadata": {
      "needs_background": "light"
     },
     "output_type": "display_data"
    }
   ],
   "source": [
    "def plot_vector(vector, **kwargs):\n",
    "    plt.plot([0, vector[0]], [0, vector[1]], **kwargs)\n",
    "\n",
    "plot_vector(first_pc, c='y', label='First Principal Component')\n",
    "product_vector = cov_matrix @ first_pc\n",
    "product_vector /= norm(product_vector)\n",
    "plot_vector(product_vector, c='k', linestyle='--',\n",
    "            label='Normalized Product Vector')\n",
    "\n",
    "plt.legend()\n",
    "plt.axis('equal')\n",
    "plt.show()"
   ]
  },
  {
   "cell_type": "code",
   "execution_count": 82,
   "metadata": {},
   "outputs": [
    {
     "name": "stdout",
     "output_type": "stream",
     "text": [
      "The angle between vectors equals 0.00 degrees\n"
     ]
    }
   ],
   "source": [
    "product_vector2 = cov_matrix @ product_vector\n",
    "product_vector2 /= norm(product_vector2)\n",
    "cosine_similarity = product_vector @ product_vector2\n",
    "angle = np.degrees(np.arccos(cosine_similarity))\n",
    "print(f\"The angle between vectors equals {angle:.2f} degrees\")"
   ]
  },
  {
   "cell_type": "code",
   "execution_count": 83,
   "metadata": {},
   "outputs": [
    {
     "name": "stdout",
     "output_type": "stream",
     "text": [
      "Multiplication has streched the first principal component by approximately 541.8 units.\n"
     ]
    }
   ],
   "source": [
    "new_magnitude = norm(cov_matrix @ first_pc)\n",
    "print(\"Multiplication has streched the first principal component by \"\n",
    "      f\"approximately {new_magnitude:.1f} units.\")"
   ]
  },
  {
   "cell_type": "code",
   "execution_count": 84,
   "metadata": {},
   "outputs": [
    {
     "name": "stdout",
     "output_type": "stream",
     "text": [
      "The variance along the first principal direction is approximately 541.8\n"
     ]
    }
   ],
   "source": [
    "variance = (centered_data.T @ first_pc).var()\n",
    "direction1_var = projections[0].var()\n",
    "print(\"The variance along the first principal direction is approximately\"\n",
    "       f\" {variance:.1f}\")"
   ]
  },
  {
   "cell_type": "code",
   "execution_count": 85,
   "metadata": {},
   "outputs": [],
   "source": [
    "np.random.seed(0)\n",
    "random_vector = np.random.random(size=2)\n",
    "random_vector /= norm(random_vector)"
   ]
  },
  {
   "cell_type": "code",
   "execution_count": 86,
   "metadata": {},
   "outputs": [
    {
     "data": {
      "image/png": "[encoded data removed]",
      "text/plain": [
       "<Figure size 432x288 with 1 Axes>"
      ]
     },
     "metadata": {
      "needs_background": "light"
     },
     "output_type": "display_data"
    }
   ],
   "source": [
    "product_vector = cov_matrix @ random_vector\n",
    "product_vector /= norm(product_vector)\n",
    "\n",
    "plt.plot([0, random_vector[0]], [0, random_vector[1]],\n",
    "          label='Random Vector')\n",
    "plt.plot([0, product_vector[0]], [0, product_vector[1]], linestyle='--',\n",
    "         c='k', label='Normalized Product Vector')\n",
    "\n",
    "plt.legend()\n",
    "plt.axis('equal')\n",
    "plt.show()"
   ]
  },
  {
   "cell_type": "code",
   "execution_count": 87,
   "metadata": {},
   "outputs": [
    {
     "data": {
      "image/png": "[encoded data removed]",
      "text/plain": [
       "<Figure size 432x288 with 1 Axes>"
      ]
     },
     "metadata": {
      "needs_background": "light"
     },
     "output_type": "display_data"
    }
   ],
   "source": [
    "product_vector2 = cov_matrix @ product_vector\n",
    "product_vector2 /= norm(product_vector2)\n",
    "\n",
    "plt.plot([0, product_vector[0]], [0, product_vector[1]], linestyle='--',\n",
    "         c='k', label='Normalized Product Vector')\n",
    "plt.plot([0, product_vector2[0]], [0, product_vector2[1]], linestyle=':',\n",
    "         c='r', label='Normalized Product Vector2')\n",
    "plt.legend()\n",
    "plt.axis('equal')\n",
    "plt.show()"
   ]
  },
  {
   "cell_type": "code",
   "execution_count": 88,
   "metadata": {},
   "outputs": [
    {
     "name": "stdout",
     "output_type": "stream",
     "text": [
      "The extracted eigenvector is [0.20223994 0.979336  ]\n",
      "Its eigenvalue is approximately  541.8\n"
     ]
    }
   ],
   "source": [
    "np.random.seed(0)\n",
    "def power_iteration(matrix):\n",
    "    random_vector = np.random.random(size=matrix.shape[0])\n",
    "    random_vector = random_vector / norm(random_vector)\n",
    "    old_rotated_vector = random_vector\n",
    "    for _ in range(10):\n",
    "        rotated_vector = matrix @ old_rotated_vector\n",
    "        rotated_vector = rotated_vector / norm(rotated_vector)\n",
    "        old_rotated_vector = rotated_vector\n",
    "\n",
    "    eigenvector = rotated_vector\n",
    "    eigenvalue = norm(matrix @ eigenvector)\n",
    "    return eigenvector, eigenvalue\n",
    "\n",
    "eigenvector, eigenvalue = power_iteration(cov_matrix)\n",
    "print(f\"The extracted eigenvector is {eigenvector}\")\n",
    "print(f\"Its eigenvalue is approximately {eigenvalue: .1f}\")"
   ]
  },
  {
   "cell_type": "code",
   "execution_count": 89,
   "metadata": {},
   "outputs": [],
   "source": [
    "outer_product = np.outer(eigenvector, eigenvector)\n",
    "for i in range(eigenvector.size):\n",
    "    for j in range(eigenvector.size):\n",
    "        assert outer_product[i][j] == eigenvector[i] * eigenvector[j]"
   ]
  },
  {
   "cell_type": "code",
   "execution_count": 90,
   "metadata": {},
   "outputs": [],
   "source": [
    "deflated_matrix = cov_matrix - eigenvalue * outer_product"
   ]
  },
  {
   "cell_type": "code",
   "execution_count": 91,
   "metadata": {},
   "outputs": [
    {
     "data": {
      "image/png": "[encoded data removed]",
      "text/plain": [
       "<Figure size 432x288 with 1 Axes>"
      ]
     },
     "metadata": {
      "needs_background": "light"
     },
     "output_type": "display_data"
    }
   ],
   "source": [
    "np.random.seed(0)\n",
    "next_eigenvector, _ = power_iteration(deflated_matrix)\n",
    "components = np.array([eigenvector, next_eigenvector])\n",
    "projections = components @ centered_data\n",
    "plt.scatter(projections[0], projections[1])\n",
    "plt.axhline(0, c='black')\n",
    "plt.axvline(0, c='black')\n",
    "plt.axis('equal')\n",
    "plt.show()"
   ]
  },
  {
   "cell_type": "code",
   "execution_count": 92,
   "metadata": {},
   "outputs": [],
   "source": [
    "def find_top_principal_components(centered_matrix, k=2):\n",
    "    cov_matrix = centered_matrix @ centered_matrix.T\n",
    "    cov_matrix /= centered_matrix[1].size\n",
    "    return find_top_eigenvectors(cov_matrix, k=k)\n",
    "\n",
    "def find_top_eigenvectors(matrix, k=2):\n",
    "    matrix = matrix.copy()\n",
    "    eigenvectors = []\n",
    "    for _ in range(k):\n",
    "        eigenvector, eigenvalue = power_iteration(matrix)\n",
    "        eigenvectors.append(eigenvector)\n",
    "        matrix -= eigenvalue * np.outer(eigenvector, eigenvector)\n",
    "\n",
    "    return np.array(eigenvectors)"
   ]
  },
  {
   "cell_type": "code",
   "execution_count": 93,
   "metadata": {},
   "outputs": [],
   "source": [
    "def reduce_dimensions(data, k=2, centralize_data=True):\n",
    "    data = data.T.copy()\n",
    "    if centralize_data:\n",
    "        for i in range(data.shape[0]):\n",
    "            data[i] -= data[i].mean()\n",
    "\n",
    "    principal_components = find_top_principal_components(data)\n",
    "    return (principal_components @ data).T"
   ]
  },
  {
   "cell_type": "code",
   "execution_count": 94,
   "metadata": {},
   "outputs": [
    {
     "data": {
      "image/png": "[encoded data removed]",
      "text/plain": [
       "<Figure size 432x288 with 1 Axes>"
      ]
     },
     "metadata": {
      "needs_background": "light"
     },
     "output_type": "display_data"
    }
   ],
   "source": [
    "np.random.seed(0)\n",
    "dim_reduced_data = reduce_dimensions(flower_measurements)\n",
    "visualize_flower_data(dim_reduced_data)"
   ]
  },
  {
   "cell_type": "code",
   "execution_count": 95,
   "metadata": {},
   "outputs": [
    {
     "data": {
      "image/png": "[encoded data removed]",
      "text/plain": [
       "<Figure size 432x288 with 1 Axes>"
      ]
     },
     "metadata": {
      "needs_background": "light"
     },
     "output_type": "display_data"
    }
   ],
   "source": [
    "np.random.seed(3)\n",
    "dim_reduced_data = reduce_dimensions(flower_measurements,\n",
    "                                     centralize_data=False)\n",
    "visualize_flower_data(dim_reduced_data)"
   ]
  },
  {
   "cell_type": "code",
   "execution_count": 96,
   "metadata": {},
   "outputs": [
    {
     "name": "stdout",
     "output_type": "stream",
     "text": [
      "Our plot covers 97.29% of the total variance\n"
     ]
    }
   ],
   "source": [
    "variances = [sum(data[:,i].var() for i in range(data.shape[1]))\n",
    "             for data in [dim_reduced_data, flower_measurements]]\n",
    "dim_reduced_var, total_var = variances\n",
    "percent_coverege = 100 * dim_reduced_var / total_var\n",
    "print(f\"Our plot covers {percent_coverege:.2f}% of the total variance\")"
   ]
  },
  {
   "cell_type": "markdown",
   "metadata": {},
   "source": [
    "<h2>14.5  Efficient Dimension Reduction Using SVD and Scikit-Learn"
   ]
  },
  {
   "cell_type": "code",
   "execution_count": 97,
   "metadata": {},
   "outputs": [
    {
     "data": {
      "image/png": "[encoded data removed]",
      "text/plain": [
       "<Figure size 432x288 with 1 Axes>"
      ]
     },
     "metadata": {
      "needs_background": "light"
     },
     "output_type": "display_data"
    }
   ],
   "source": [
    "from sklearn.decomposition import TruncatedSVD\n",
    "svd_object = TruncatedSVD(n_components=2)\n",
    "svd_transformed_data = svd_object.fit_transform(flower_measurements)\n",
    "visualize_flower_data(svd_transformed_data)"
   ]
  },
  {
   "cell_type": "code",
   "execution_count": 98,
   "metadata": {},
   "outputs": [
    {
     "name": "stdout",
     "output_type": "stream",
     "text": [
      "Our Scikit-Learn SVD output covers 97.29% of the total variance\n"
     ]
    }
   ],
   "source": [
    "percent_variance_coverages = 100 * svd_object.explained_variance_ratio_\n",
    "x_axis_coverage, y_axis_coverage = percent_variance_coverages\n",
    "total_2d_coverage = x_axis_coverage + y_axis_coverage\n",
    "print(f\"Our Scikit-Learn SVD output covers {total_2d_coverage:.2f}% of \"\n",
    "       \"the total variance\")"
   ]
  },
  {
   "cell_type": "markdown",
   "metadata": {},
   "source": [
    "<h1>15 NLP Analysis of Large Text Datasets"
   ]
  },
  {
   "cell_type": "code",
   "execution_count": 99,
   "metadata": {},
   "outputs": [],
   "source": [
    "from sklearn.datasets import fetch_20newsgroups\n",
    "newsgroups = fetch_20newsgroups(remove=('headers', 'footers'))"
   ]
  },
  {
   "cell_type": "code",
   "execution_count": 100,
   "metadata": {},
   "outputs": [
    {
     "name": "stdout",
     "output_type": "stream",
     "text": [
      "['alt.atheism', 'comp.graphics', 'comp.os.ms-windows.misc', 'comp.sys.ibm.pc.hardware', 'comp.sys.mac.hardware', 'comp.windows.x', 'misc.forsale', 'rec.autos', 'rec.motorcycles', 'rec.sport.baseball', 'rec.sport.hockey', 'sci.crypt', 'sci.electronics', 'sci.med', 'sci.space', 'soc.religion.christian', 'talk.politics.guns', 'talk.politics.mideast', 'talk.politics.misc', 'talk.religion.misc']\n"
     ]
    }
   ],
   "source": [
    "print(newsgroups.target_names)"
   ]
  },
  {
   "cell_type": "code",
   "execution_count": 101,
   "metadata": {},
   "outputs": [
    {
     "name": "stdout",
     "output_type": "stream",
     "text": [
      "I was wondering if anyone out there could enlighten me on this car I saw\n",
      "the other day. It was a 2-door sports car, looked to be from the late 60s/\n",
      "early 70s. It was called a Bricklin. The doors were really small. In addition,\n",
      "the front bumper was separate from the rest of the body. This is \n",
      "all I know. If anyone can tellme a model name, engine specs, years\n",
      "of production, where this car is made, history, or whatever info you\n",
      "have on this funky looking car, please e-mail.\n"
     ]
    }
   ],
   "source": [
    "print(newsgroups.data[0])"
   ]
  },
  {
   "cell_type": "code",
   "execution_count": 102,
   "metadata": {},
   "outputs": [
    {
     "name": "stdout",
     "output_type": "stream",
     "text": [
      "The post at index 0 first appeared in the 'rec.autos' group\n"
     ]
    }
   ],
   "source": [
    "origin = newsgroups.target_names[newsgroups.target[0]]\n",
    "print(f\"The post at index 0 first appeared in the '{origin}' group\")"
   ]
  },
  {
   "cell_type": "code",
   "execution_count": 103,
   "metadata": {},
   "outputs": [
    {
     "name": "stdout",
     "output_type": "stream",
     "text": [
      "Our dataset contains 11314 newsgroup posts\n"
     ]
    }
   ],
   "source": [
    "dataset_size = len(newsgroups.data)\n",
    "print(f\"Our dataset contains {dataset_size} newsgroup posts\")"
   ]
  },
  {
   "cell_type": "code",
   "execution_count": 104,
   "metadata": {},
   "outputs": [],
   "source": [
    "from sklearn.feature_extraction.text import CountVectorizer\n",
    "vectorizer = CountVectorizer()"
   ]
  },
  {
   "cell_type": "code",
   "execution_count": 105,
   "metadata": {},
   "outputs": [
    {
     "name": "stdout",
     "output_type": "stream",
     "text": [
      "  (0, 108644)\t4\n",
      "  (0, 110106)\t1\n",
      "  (0, 57577)\t2\n",
      "  (0, 24398)\t2\n",
      "  (0, 79534)\t1\n",
      "  (0, 100942)\t1\n",
      "  (0, 37154)\t1\n",
      "  (0, 45141)\t1\n",
      "  (0, 70570)\t1\n",
      "  (0, 78701)\t2\n",
      "  (0, 101084)\t4\n",
      "  (0, 32499)\t4\n",
      "  (0, 92157)\t1\n",
      "  (0, 100827)\t6\n",
      "  (0, 79461)\t1\n",
      "  (0, 39275)\t1\n",
      "  (0, 60326)\t2\n",
      "  (0, 42332)\t1\n",
      "  (0, 96432)\t1\n",
      "  (0, 67137)\t1\n",
      "  (0, 101732)\t1\n",
      "  (0, 27703)\t1\n",
      "  (0, 49871)\t2\n",
      "  (0, 65338)\t1\n",
      "  (0, 14106)\t1\n",
      "  :\t:\n",
      "  (11313, 55901)\t1\n",
      "  (11313, 93448)\t1\n",
      "  (11313, 97535)\t1\n",
      "  (11313, 93393)\t1\n",
      "  (11313, 109366)\t1\n",
      "  (11313, 102215)\t1\n",
      "  (11313, 29148)\t1\n",
      "  (11313, 26901)\t1\n",
      "  (11313, 94401)\t1\n",
      "  (11313, 89686)\t1\n",
      "  (11313, 80827)\t1\n",
      "  (11313, 72219)\t1\n",
      "  (11313, 32984)\t1\n",
      "  (11313, 82912)\t1\n",
      "  (11313, 99934)\t1\n",
      "  (11313, 96505)\t1\n",
      "  (11313, 72102)\t1\n",
      "  (11313, 32981)\t1\n",
      "  (11313, 82692)\t1\n",
      "  (11313, 101854)\t1\n",
      "  (11313, 66399)\t1\n",
      "  (11313, 63405)\t1\n",
      "  (11313, 61366)\t1\n",
      "  (11313, 7462)\t1\n",
      "  (11313, 109600)\t1\n"
     ]
    }
   ],
   "source": [
    "tf_matrix = vectorizer.fit_transform(newsgroups.data)\n",
    "print(tf_matrix)"
   ]
  },
  {
   "cell_type": "code",
   "execution_count": 106,
   "metadata": {},
   "outputs": [
    {
     "name": "stdout",
     "output_type": "stream",
     "text": [
      "<class 'scipy.sparse.csr.csr_matrix'>\n"
     ]
    }
   ],
   "source": [
    "print(type(tf_matrix))"
   ]
  },
  {
   "cell_type": "code",
   "execution_count": 122,
   "metadata": {},
   "outputs": [
    {
     "name": "stdout",
     "output_type": "stream",
     "text": [
      "[[ 5.26988537e-07  3.72786633e-02  5.88614522e-01 ... -1.09374271e-01\n",
      "   7.72134665e-02  1.91895517e-01]\n",
      " [ 2.33005793e-05  3.56925926e-02  5.04201587e-01 ...  2.34782494e-01\n",
      "  -1.10866693e-01 -2.97973188e-01]\n",
      " [ 1.24246210e-04  2.15222498e-01  3.37695151e+00 ... -1.67126825e-01\n",
      "   3.73052944e-01 -3.60480248e-02]\n",
      " ...\n",
      " [ 1.70795264e-05  3.47334977e-02  4.87153739e-01 ... -2.77131660e-02\n",
      "  -3.05246051e-01 -8.71996205e-03]\n",
      " [ 1.28703880e-06  9.46370515e-02  1.48998239e+00 ... -2.35258715e-01\n",
      "  -4.98071049e-02 -1.83036409e-02]\n",
      " [ 4.01332359e-04  4.66887412e-02  4.55727921e-01 ... -1.33900473e-01\n",
      "  -1.01104832e-01 -2.47718486e-01]]\n"
     ]
    }
   ],
   "source": [
    "import numpy as np\n",
    "from sklearn.decomposition import TruncatedSVD\n",
    "\n",
    "tf_np_matrix = TruncatedSVD(n_components=100).fit_transform(tf_matrix)\n",
    "\n",
    "#tf_np_matrix = tf_matrix.toarray()\n",
    "print(tf_np_matrix)"
   ]
  },
  {
   "cell_type": "code",
   "execution_count": null,
   "metadata": {},
   "outputs": [],
   "source": [
    "#tf_np_matrix = np.memmap('test.memmap', mode='w+', dtype=tf_matrix.dtype, shape=tf_matrix.shape)\n",
    "#for i,j,v in zip(m.row, m.col, m.data):\n",
    "#    mm[i,j] = v\n"
   ]
  },
  {
   "cell_type": "code",
   "execution_count": 108,
   "metadata": {},
   "outputs": [
    {
     "name": "stdout",
     "output_type": "stream",
     "text": [
      "Our collection of 11314 newsgroup posts contain a total of 114751 unique words\n"
     ]
    }
   ],
   "source": [
    "\n",
    "num_posts, vocabulary_size = tf_matrix.shape\n",
    "print(f\"Our collection of {num_posts} newsgroup posts contain a total of \"\n",
    "      f\"{vocabulary_size} unique words\")"
   ]
  },
  {
   "cell_type": "code",
   "execution_count": 123,
   "metadata": {},
   "outputs": [
    {
     "name": "stdout",
     "output_type": "stream",
     "text": [
      "The newsgroup in row 0 contains 100 unique words.\n",
      "The actual word-counts map to the following column indices:\n",
      "\n",
      "[ 0  1  2  3  4  5  6  7  8  9 10 11 12 13 14 15 16 17 18 19 20 21 22 23\n",
      " 24 25 26 27 28 29 30 31 32 33 34 35 36 37 38 39 40 41 42 43 44 45 46 47\n",
      " 48 49 50 51 52 53 54 55 56 57 58 59 60 61 62 63 64 65 66 67 68 69 70 71\n",
      " 72 73 74 75 76 77 78 79 80 81 82 83 84 85 86 87 88 89 90 91 92 93 94 95\n",
      " 96 97 98 99]\n"
     ]
    }
   ],
   "source": [
    "import numpy as np\n",
    "tf_vector = tf_np_matrix[0]\n",
    "non_zero_indices = np.flatnonzero(tf_vector)\n",
    "num_unique_words = non_zero_indices.size\n",
    "print(f\"The newsgroup in row 0 contains {num_unique_words} unique words.\")\n",
    "print(\"The actual word-counts map to the following column indices:\\n\")\n",
    "print(non_zero_indices)"
   ]
  },
  {
   "cell_type": "code",
   "execution_count": 110,
   "metadata": {},
   "outputs": [],
   "source": [
    "vectorizer = CountVectorizer(stop_words='english')\n",
    "tf_matrix = vectorizer.fit_transform(newsgroups.data)\n",
    "assert tf_matrix.shape[1] < 114751\n",
    "\n",
    "words = vectorizer.get_feature_names()\n",
    "for common_word in ['the', 'this', 'was', 'if', 'it', 'on']:\n",
    "    assert common_word not in words"
   ]
  },
  {
   "cell_type": "code",
   "execution_count": 125,
   "metadata": {},
   "outputs": [
    {
     "name": "stdout",
     "output_type": "stream",
     "text": [
      "After stop-word deletion, 100 unique words remain.\n",
      "The 10 most frequent words are:\n",
      "\n",
      "           Word     Count\n",
      "       00011011  1.077307\n",
      "      00010111b  0.792225\n",
      "           0000  0.588615\n",
      "       00011000  0.552947\n",
      "         000021  0.430989\n",
      " 000100255pixel  0.403238\n",
      "      00010100b  0.335263\n",
      "         000152  0.268490\n",
      "           0001  0.241581\n",
      "       00001110  0.233137\n"
     ]
    }
   ],
   "source": [
    "tf_vector = tf_np_matrix[0]\n",
    "non_zero_indices = np.flatnonzero(tf_vector)\n",
    "unique_words = [words[index] for index in non_zero_indices]\n",
    "data = {'Word': unique_words,\n",
    "        'Count': tf_vector[non_zero_indices]}\n",
    "\n",
    "df = pd.DataFrame(data).sort_values('Count', ascending=False)\n",
    "print(f\"After stop-word deletion, {df.shape[0]} unique words remain.\")\n",
    "print(\"The 10 most frequent words are:\\n\")\n",
    "print(df[:10].to_string(index=False))"
   ]
  },
  {
   "cell_type": "code",
   "execution_count": 126,
   "metadata": {},
   "outputs": [
    {
     "name": "stdout",
     "output_type": "stream",
     "text": [
      "We obtained a sub-matrix correspond to the 34 words within post 0. The first row of the sub-matrix is:\n",
      "\n"
     ]
    }
   ],
   "source": [
    "sub_matrix = tf_matrix[:,non_zero_indices]\n",
    "print(\"We obtained a sub-matrix correspond to the 34 words within post 0. \"\n",
    "      \"The first row of the sub-matrix is:\")\n",
    "print(sub_matrix[0])"
   ]
  },
  {
   "cell_type": "code",
   "execution_count": 127,
   "metadata": {},
   "outputs": [
    {
     "name": "stdout",
     "output_type": "stream",
     "text": [
      "CSR matrix-generated counts:\n",
      " [[342 355   7   3   1   2   2   1   1   1   1   1   1   1   1   1   1   1\n",
      "    1   1   1   1   1   1   1   2   1   1   1   1   1   1   1   1   1   1\n",
      "    1   1   1   1   1   1   1   1   1   1   1   1   1   1   2   4   1   1\n",
      "    1   1   1   1   1   1   1   1   1   1   1   1   1   1   1   1   1   1\n",
      "    1   1   1   1   1   1   1   1   1   1   1   1   1   1   8   1   1   3\n",
      "    1   1   1   3   1   1   2   3   1   1]]\n"
     ]
    }
   ],
   "source": [
    "from sklearn.preprocessing import binarize\n",
    "csr_post_mentions = binarize(tf_matrix[:,non_zero_indices]).sum(axis=0)\n",
    "#print(f'NumPy matrix-generated counts:\\n {np_post_mentions}\\n')\n",
    "print(f'CSR matrix-generated counts:\\n {csr_post_mentions}')"
   ]
  },
  {
   "cell_type": "code",
   "execution_count": 118,
   "metadata": {},
   "outputs": [
    {
     "name": "stdout",
     "output_type": "stream",
     "text": [
      "[342 355   7 ...   2   1   2]\n"
     ]
    }
   ],
   "source": [
    "matrix_1D = binarize(tf_matrix).sum(axis=0)\n",
    "my_array = np.asarray(matrix_1D)[0]\n",
    "print(my_array)"
   ]
  },
  {
   "cell_type": "code",
   "execution_count": 121,
   "metadata": {},
   "outputs": [
    {
     "name": "stdout",
     "output_type": "stream",
     "text": [
      "We've dimensionally-reduced a 114441-column <class 'scipy.sparse.csr.csr_matrix'> matrix.\n",
      "Our output is a 100-column <class 'numpy.ndarray'> matrix.\n"
     ]
    }
   ],
   "source": [
    "np.random.seed(0)\n",
    "from sklearn.decomposition import TruncatedSVD\n",
    "\n",
    "shrunk_matrix = TruncatedSVD(n_components=100).fit_transform(tf_matrix)\n",
    "print(f\"We've dimensionally-reduced a {tf_matrix.shape[1]}-column \"\n",
    "      f\"{type(tf_matrix)} matrix.\")\n",
    "print(f\"Our output is a {shrunk_matrix.shape[1]}-column \"\n",
    "      f\"{type(shrunk_matrix)} matrix.\")"
   ]
  },
  {
   "cell_type": "code",
   "execution_count": 128,
   "metadata": {},
   "outputs": [
    {
     "name": "stdout",
     "output_type": "stream",
     "text": [
      "The magnitude of the first row is 2.48\n"
     ]
    }
   ],
   "source": [
    "magnitude = norm(shrunk_matrix[0])\n",
    "print(f\"The magnitude of the first row is {magnitude:.2f}\")"
   ]
  },
  {
   "cell_type": "code",
   "execution_count": 129,
   "metadata": {},
   "outputs": [
    {
     "name": "stdout",
     "output_type": "stream",
     "text": [
      "The magnitude of the first row is 1.00\n"
     ]
    }
   ],
   "source": [
    "from sklearn.preprocessing import normalize\n",
    "shrunk_norm_matrix = normalize(shrunk_matrix)\n",
    "magnitude = norm(shrunk_norm_matrix[0])\n",
    "print(f\"The magnitude of the first row is {magnitude:.2f}\")"
   ]
  },
  {
   "cell_type": "code",
   "execution_count": null,
   "metadata": {},
   "outputs": [],
   "source": []
  }
 ],
 "metadata": {
  "kernelspec": {
   "display_name": "Python 3",
   "language": "python",
   "name": "python3"
  },
  "language_info": {
   "codemirror_mode": {
    "name": "ipython",
    "version": 3
   },
   "file_extension": ".py",
   "mimetype": "text/x-python",
   "name": "python",
   "nbconvert_exporter": "python",
   "pygments_lexer": "ipython3",
   "version": "3.8.2"
  }
 },
 "nbformat": 4,
 "nbformat_minor": 4
}
