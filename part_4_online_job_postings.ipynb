{
 "cells": [
  {
   "cell_type": "markdown",
   "metadata": {},
   "source": [
    "<h1>13 Measuring Text Similarities"
   ]
  },
  {
   "cell_type": "code",
   "execution_count": 1,
   "metadata": {},
   "outputs": [
    {
     "name": "stdout",
     "output_type": "stream",
     "text": [
      "Words in text 1\n",
      "['She', 'sells', 'seashells', 'by', 'the', 'seashore.']\n",
      "\n",
      "Words in text 2\n",
      "['\"Seashells!', 'The', 'seashells', 'are', 'on', 'sale!', 'By', 'the', 'seashore.\"']\n",
      "\n",
      "Words in text 3\n",
      "['She', 'sells', '3', 'seashells', 'to', 'John,', 'who', 'lives', 'by', 'the', 'lake.']\n",
      "\n"
     ]
    }
   ],
   "source": [
    "text1 = 'She sells seashells by the seashore.'\n",
    "text2 = '\"Seashells! The seashells are on sale! By the seashore.\"'\n",
    "text3 = 'She sells 3 seashells to John, who lives by the lake.'\n",
    "words_lists = [text.split() for text in [text1, text2, text3]]\n",
    "words1, words2, words3 = words_lists\n",
    "\n",
    "for i, words in enumerate(words_lists, 1):\n",
    "    print(f\"Words in text {i}\")\n",
    "    print(f\"{words}\\n\")"
   ]
  },
  {
   "cell_type": "code",
   "execution_count": 2,
   "metadata": {},
   "outputs": [
    {
     "name": "stdout",
     "output_type": "stream",
     "text": [
      "Words in text 1\n",
      "['she', 'sells', 'seashells', 'by', 'the', 'seashore']\n",
      "\n",
      "Words in text 2\n",
      "['seashells', 'the', 'seashells', 'are', 'on', 'sale', 'by', 'the', 'seashore']\n",
      "\n",
      "Words in text 3\n",
      "['she', 'sells', '3', 'seashells', 'to', 'john', 'who', 'lives', 'by', 'the', 'lake']\n",
      "\n"
     ]
    }
   ],
   "source": [
    "def simplify_text(text):\n",
    "    for punctuation in ['.', ',', '!', '?', '\"']:\n",
    "        text = text.replace(punctuation, '')\n",
    "\n",
    "    return text.lower()\n",
    "\n",
    "for i, words in enumerate(words_lists, 1):\n",
    "    for j, word in enumerate(words):\n",
    "        words[j] = simplify_text(word)\n",
    "\n",
    "    print(f\"Words in text {i}\")\n",
    "    print(f\"{words}\\n\")"
   ]
  },
  {
   "cell_type": "code",
   "execution_count": 3,
   "metadata": {},
   "outputs": [
    {
     "name": "stdout",
     "output_type": "stream",
     "text": [
      "Unique Words in text 1\n",
      "{'she', 'sells', 'by', 'seashore', 'seashells', 'the'}\n",
      "\n",
      "Unique Words in text 2\n",
      "{'sale', 'are', 'by', 'seashore', 'seashells', 'on', 'the'}\n",
      "\n",
      "Unique Words in text 3\n",
      "{'she', 'to', 'sells', 'who', 'by', 'lives', 'john', '3', 'seashells', 'lake', 'the'}\n",
      "\n"
     ]
    }
   ],
   "source": [
    "words_sets = [set(words) for words in words_lists]\n",
    "for i, unique_words in enumerate(words_sets, 1):\n",
    "    print(f\"Unique Words in text {i}\")\n",
    "    print(f\"{unique_words}\\n\")"
   ]
  },
  {
   "cell_type": "code",
   "execution_count": 4,
   "metadata": {},
   "outputs": [
    {
     "data": {
      "text/plain": [
       "[{'by', 'seashells', 'seashore', 'sells', 'she', 'the'},\n",
       " {'are', 'by', 'on', 'sale', 'seashells', 'seashore', 'the'},\n",
       " {'3',\n",
       "  'by',\n",
       "  'john',\n",
       "  'lake',\n",
       "  'lives',\n",
       "  'seashells',\n",
       "  'sells',\n",
       "  'she',\n",
       "  'the',\n",
       "  'to',\n",
       "  'who'}]"
      ]
     },
     "execution_count": 4,
     "metadata": {},
     "output_type": "execute_result"
    }
   ],
   "source": [
    "words_sets"
   ]
  },
  {
   "cell_type": "code",
   "execution_count": 5,
   "metadata": {},
   "outputs": [
    {
     "name": "stdout",
     "output_type": "stream",
     "text": [
      "Texts 1 and 2 share these 4 words:\n",
      "{'by', 'seashore', 'the', 'seashells'}\n",
      "\n",
      "Texts 1 and 3 share these 5 words:\n",
      "{'she', 'sells', 'by', 'seashells', 'the'}\n",
      "\n"
     ]
    }
   ],
   "source": [
    "words_set1 = words_sets[0]\n",
    "for i, words_set in enumerate(words_sets[1:], 2):\n",
    "    shared_words = words_set1 & words_set\n",
    "    print(f\"Texts 1 and {i} share these {len(shared_words)} words:\")\n",
    "    print(f\"{shared_words}\\n\")"
   ]
  },
  {
   "cell_type": "code",
   "execution_count": 6,
   "metadata": {},
   "outputs": [
    {
     "name": "stdout",
     "output_type": "stream",
     "text": [
      "Texts 1 and 2 don't share these 5 words:\n",
      "{'she', 'are', 'on', 'sale', 'sells'}\n",
      "\n",
      "Texts 1 and 3 don't share these 7 words:\n",
      "{'to', 'who', 'seashore', 'lives', 'john', '3', 'lake'}\n",
      "\n"
     ]
    }
   ],
   "source": [
    "for i, words_set in enumerate(words_sets[1:], 2):\n",
    "    diverging_words = words_set1 ^ words_set\n",
    "    print(f\"Texts 1 and {i} don't share these {len(diverging_words)} words:\")\n",
    "    print(f\"{diverging_words}\\n\")"
   ]
  },
  {
   "cell_type": "code",
   "execution_count": 7,
   "metadata": {},
   "outputs": [
    {
     "name": "stdout",
     "output_type": "stream",
     "text": [
      "Together, texts 1 and 2 contain 9 unique words. These words are:\n",
      " {'she', 'sale', 'sells', 'are', 'by', 'seashore', 'seashells', 'on', 'the'}\n",
      "\n",
      "Together, texts 1 and 3 contain 12 unique words. These words are:\n",
      " {'she', 'who', 'by', '3', 'lake', 'to', 'sells', 'seashore', 'lives', 'john', 'seashells', 'the'}\n",
      "\n"
     ]
    }
   ],
   "source": [
    "for i, words_set in enumerate(words_sets[1:], 2):\n",
    "    total_words = words_set1 | words_set\n",
    "    print(f\"Together, texts 1 and {i} contain {len(total_words)} \"\n",
    "          f\"unique words. These words are:\\n {total_words}\\n\")"
   ]
  },
  {
   "cell_type": "code",
   "execution_count": 8,
   "metadata": {},
   "outputs": [
    {
     "name": "stdout",
     "output_type": "stream",
     "text": [
      "Together, texts 1 and 2 contain 9 unique words. \n",
      "44.44% of these words are shared. \n",
      "55.56% of these words diverge.\n",
      "\n",
      "Together, texts 1 and 3 contain 12 unique words. \n",
      "41.67% of these words are shared. \n",
      "58.33% of these words diverge.\n",
      "\n"
     ]
    }
   ],
   "source": [
    "for i, words_set in enumerate(words_sets[1:], 2):\n",
    "    shared_words = words_set1 & words_set\n",
    "    diverging_words = words_set1 ^ words_set\n",
    "    total_words = words_set1 | words_set\n",
    "    assert len(total_words) == len(shared_words) + len(diverging_words)\n",
    "    percent_shared = 100 * len(shared_words) / len(total_words)\n",
    "    percent_diverging = 100 * len(diverging_words) / len(total_words)\n",
    "\n",
    "    print(f\"Together, texts 1 and {i} contain {len(total_words)} \"\n",
    "          f\"unique words. \\n{percent_shared:.2f}% of these words are \"\n",
    "          f\"shared. \\n{percent_diverging:.2f}% of these words diverge.\\n\")"
   ]
  },
  {
   "cell_type": "code",
   "execution_count": 9,
   "metadata": {},
   "outputs": [
    {
     "name": "stdout",
     "output_type": "stream",
     "text": [
      "The Jaccard similarity between 'She sells seashells by the seashore.' and '\"Seashells! The seashells are on sale! By the seashore.\"' equals 0.4444.\n",
      "\n",
      "The Jaccard similarity between 'She sells seashells by the seashore.' and 'She sells 3 seashells to John, who lives by the lake.' equals 0.4167.\n",
      "\n"
     ]
    }
   ],
   "source": [
    "def jaccard_similarity(text_a, text_b):\n",
    "    word_set_a, word_set_b = [set(simplify_text(text).split())\n",
    "                              for text in [text_a, text_b]]\n",
    "    num_shared = len(word_set_a & word_set_b)\n",
    "    num_total = len(word_set_a | word_set_b)\n",
    "    return num_shared / num_total\n",
    "\n",
    "for text in [text2, text3]:\n",
    "    similarity = jaccard_similarity(text1, text)\n",
    "    print(f\"The Jaccard similarity between '{text1}' and '{text}' \"\n",
    "          f\"equals {similarity:.4f}.\" \"\\n\")"
   ]
  },
  {
   "cell_type": "code",
   "execution_count": 10,
   "metadata": {},
   "outputs": [],
   "source": [
    "def jaccard_similarity_efficient(text_a, text_b):\n",
    "    word_set_a, word_set_b = [set(simplify_text(text).split())\n",
    "                              for text in [text_a, text_b]]\n",
    "    num_shared = len(word_set_a & word_set_b)\n",
    "    num_total = len(word_set_a) + len(word_set_b) - num_shared\n",
    "    return num_shared / num_total\n",
    "\n",
    "for text in [text2, text3]:\n",
    "    similarity = jaccard_similarity_efficient(text1, text)\n",
    "    assert similarity == jaccard_similarity(text1, text)"
   ]
  },
  {
   "cell_type": "code",
   "execution_count": 11,
   "metadata": {},
   "outputs": [
    {
     "name": "stdout",
     "output_type": "stream",
     "text": [
      "Our vocabulary contains 15 words. This vocabulary is:\n",
      "{'she': 0, 'who': 1, 'are': 2, 'by': 3, '3': 4, 'lake': 5, 'on': 6, 'sale': 7, 'to': 8, 'sells': 9, 'seashore': 10, 'lives': 11, 'john': 12, 'seashells': 13, 'the': 14}\n"
     ]
    }
   ],
   "source": [
    "words_set1, words_set2, words_set3 = words_sets\n",
    "total_words = words_set1 | words_set2 | words_set3\n",
    "vocabulary = {word : i for i, word in enumerate(total_words)}\n",
    "value_to_word = {value: word for word, value in vocabulary.items()}\n",
    "print(f\"Our vocabulary contains {len(vocabulary)} words. \"\n",
    "      f\"This vocabulary is:\\n{vocabulary}\")"
   ]
  },
  {
   "cell_type": "code",
   "execution_count": 12,
   "metadata": {},
   "outputs": [
    {
     "data": {
      "image/png": "[encoded data removed]",
      "text/plain": [
       "<Figure size 432x288 with 2 Axes>"
      ]
     },
     "metadata": {
      "needs_background": "light"
     },
     "output_type": "display_data"
    }
   ],
   "source": [
    "import matplotlib.pyplot as plt\n",
    "import numpy as np\n",
    "import seaborn as sns\n",
    "\n",
    "vectors = []\n",
    "for i, words_set in enumerate(words_sets, 1):\n",
    "    vector = np.array([0] * len(vocabulary))\n",
    "    for word in words_set:\n",
    "        vector[vocabulary[word]] = 1\n",
    "    vectors.append(vector)\n",
    "\n",
    "sns.heatmap(vectors, annot=True,  cmap='YlGnBu',\n",
    "            xticklabels=vocabulary.keys(),\n",
    "yticklabels=['Text 1', 'Text 2', 'Text 3'])\n",
    "plt.yticks(rotation=0)\n",
    "plt.show()"
   ]
  },
  {
   "cell_type": "code",
   "execution_count": 13,
   "metadata": {},
   "outputs": [
    {
     "name": "stdout",
     "output_type": "stream",
     "text": [
      "'by' is present in both texts 1 and 2\n",
      "'seashore' is present in both texts 1 and 2\n",
      "'seashells' is present in both texts 1 and 2\n",
      "'the' is present in both texts 1 and 2\n"
     ]
    }
   ],
   "source": [
    "vector1, vector2 = vectors[:2]\n",
    "for i in range(len(vocabulary)):\n",
    "    if vector1[i] * vector2[i]:\n",
    "        shared_word = value_to_word[i]\n",
    "        print(f\"'{shared_word}' is present in both texts 1 and 2\")"
   ]
  },
  {
   "cell_type": "code",
   "execution_count": 14,
   "metadata": {},
   "outputs": [],
   "source": [
    "def tanimoto_similarity(vector_a, vector_b):\n",
    "    num_shared = vector_a @ vector_b\n",
    "    num_total = vector_a @ vector_a + vector_b @ vector_b - num_shared\n",
    "    return num_shared / num_total\n",
    "\n",
    "for i, text in enumerate([text2, text3], 1):\n",
    "    similarity = tanimoto_similarity(vector1, vectors[i])\n",
    "    assert similarity == jaccard_similarity(text1, text)"
   ]
  },
  {
   "cell_type": "code",
   "execution_count": 15,
   "metadata": {},
   "outputs": [
    {
     "name": "stdout",
     "output_type": "stream",
     "text": [
      "The similarity of 2 non-binary vectors is 0.96875\n"
     ]
    }
   ],
   "source": [
    "non_binary_vector1 = np.array([5, 3])\n",
    "non_binary_vector2 = np.array([5, 2])\n",
    "similarity = tanimoto_similarity(non_binary_vector1, non_binary_vector2)\n",
    "print(f\"The similarity of 2 non-binary vectors is {similarity}\")"
   ]
  },
  {
   "cell_type": "markdown",
   "metadata": {},
   "source": [
    "<h2>13.2  Vectorizing Texts Using Word Counts"
   ]
  },
  {
   "cell_type": "code",
   "execution_count": 16,
   "metadata": {},
   "outputs": [
    {
     "name": "stdout",
     "output_type": "stream",
     "text": [
      "The similarity between texts is approximately 0.024\n"
     ]
    }
   ],
   "source": [
    "similarity = tanimoto_similarity(np.array([61, 2]), np.array([1, 71]))\n",
    "print(f\"The similarity between texts is approximately {similarity:.3f}\")"
   ]
  },
  {
   "cell_type": "code",
   "execution_count": 17,
   "metadata": {},
   "outputs": [],
   "source": [
    "assert tanimoto_similarity(np.array([1, 1]), np.array([1, 1])) == 1"
   ]
  },
  {
   "cell_type": "code",
   "execution_count": 18,
   "metadata": {},
   "outputs": [
    {
     "data": {
      "image/png": "[encoded data removed]",
      "text/plain": [
       "<Figure size 432x288 with 2 Axes>"
      ]
     },
     "metadata": {
      "needs_background": "light"
     },
     "output_type": "display_data"
    }
   ],
   "source": [
    "tf_vectors = []\n",
    "for i, words_list in enumerate(words_lists, 1):\n",
    "    tf_vector = np.array([0] * len(vocabulary))\n",
    "    for word in words_list:\n",
    "        word_index = vocabulary[word]\n",
    "        # Update the count of each word using its vocabulary index.\n",
    "        tf_vector[word_index] += 1\n",
    "\n",
    "    tf_vectors.append(tf_vector)\n",
    "\n",
    "\n",
    "sns.heatmap(tf_vectors,  cmap='YlGnBu', annot=True,\n",
    "            xticklabels=vocabulary.keys(),\n",
    "yticklabels=['Text 1', 'Text 2', 'Text 3'])\n",
    "plt.yticks(rotation=0)\n",
    "plt.show()"
   ]
  },
  {
   "cell_type": "code",
   "execution_count": 19,
   "metadata": {},
   "outputs": [
    {
     "name": "stdout",
     "output_type": "stream",
     "text": [
      "The recomputed Tanimoto similarity between texts 1 and 2 is 0.4615.\n",
      "Previously, that similarity equaled 0.4444 \n",
      "\n",
      "The recomputed Tanimoto similarity between texts 1 and 3 is 0.4167.\n",
      "Previously, that similarity equaled 0.4167 \n",
      "\n"
     ]
    }
   ],
   "source": [
    "tf_vector1 = tf_vectors[0]\n",
    "binary_vector1 = vectors[0]\n",
    "\n",
    "for i, tf_vector in enumerate(tf_vectors[1:], 2):\n",
    "    similarity = tanimoto_similarity(tf_vector1, tf_vector)\n",
    "    old_similarity = tanimoto_similarity(binary_vector1, vectors[i - 1])\n",
    "    print(f\"The recomputed Tanimoto similarity between texts 1 and {i} is\"\n",
    "          f\" {similarity:.4f}.\")\n",
    "    print(f\"Previously, that similarity equaled {old_similarity:.4f} \" \"\\n\")"
   ]
  },
  {
   "cell_type": "code",
   "execution_count": 20,
   "metadata": {},
   "outputs": [],
   "source": [
    "query_vector = np.array([1, 1])\n",
    "title_a_vector = np.array([3, 3])\n",
    "title_b_vector = np.array([1, 0])"
   ]
  },
  {
   "cell_type": "code",
   "execution_count": 21,
   "metadata": {},
   "outputs": [
    {
     "name": "stdout",
     "output_type": "stream",
     "text": [
      "'B: Pepperoni' has a query similarity of 0.5000\n",
      "'A: Pepperoni Pizza! Pepperoni Pizza! Pepperoni Pizza!' has a query similarity of 0.4286\n"
     ]
    }
   ],
   "source": [
    "titles = [\"A: Pepperoni Pizza! Pepperoni Pizza! Pepperoni Pizza!\",\n",
    "          \"B: Pepperoni\"]\n",
    "title_vectors = [title_a_vector, title_b_vector]\n",
    "similarities = [tanimoto_similarity(query_vector, title_vector)\n",
    "                for title_vector in title_vectors]\n",
    "\n",
    "for index in sorted(range(len(titles)), key=lambda i: similarities[i],\n",
    "                    reverse=True):\n",
    "    title = titles[index]\n",
    "    similarity = similarities[index]\n",
    "    print(f\"'{title}' has a query similarity of {similarity:.4f}\")"
   ]
  },
  {
   "cell_type": "code",
   "execution_count": 22,
   "metadata": {},
   "outputs": [],
   "source": [
    "assert np.array_equal(query_vector, title_a_vector / 3)\n",
    "assert tanimoto_similarity(query_vector,\n",
    "                           title_a_vector / 3) == 1"
   ]
  },
  {
   "cell_type": "code",
   "execution_count": 23,
   "metadata": {},
   "outputs": [
    {
     "data": {
      "image/png": "[encoded data removed]",
      "text/plain": [
       "<Figure size 432x288 with 1 Axes>"
      ]
     },
     "metadata": {
      "needs_background": "light"
     },
     "output_type": "display_data"
    }
   ],
   "source": [
    "plt.plot([0, query_vector[0]], [0, query_vector[1]], c='k',\n",
    "         linewidth=3, label='Query Vector')\n",
    "plt.plot([0, title_a_vector[0]], [0, title_a_vector[1]], c='b',\n",
    "          linestyle='--', label='Title A Vector')\n",
    "plt.plot([0, title_b_vector[0]], [0, title_b_vector[1]], c='g',\n",
    "         linewidth=2, linestyle='-.', label='Title B Vector')\n",
    "plt.xlabel('Pepperoni')\n",
    "plt.ylabel('Pizza')\n",
    "plt.legend()\n",
    "plt.show()"
   ]
  },
  {
   "cell_type": "code",
   "execution_count": 24,
   "metadata": {},
   "outputs": [
    {
     "name": "stdout",
     "output_type": "stream",
     "text": [
      "Query Vector's magnitude is approximately 1.4142\n",
      "Title A Vector's magnitude is approximately 4.2426\n",
      "Title B Vector's magnitude is approximately 1.0000\n",
      "\n",
      "Vector A is 3x as long as Query Vector\n"
     ]
    }
   ],
   "source": [
    "from scipy.spatial.distance import euclidean\n",
    "from numpy.linalg import norm\n",
    "\n",
    "vector_names = ['Query Vector', 'Title A Vector', 'Title B Vector']\n",
    "tf_search_vectors = [query_vector, title_a_vector, title_b_vector]\n",
    "origin = np.array([0, 0])\n",
    "for name, tf_vector in zip(vector_names, tf_search_vectors):\n",
    "    magnitude = euclidean(tf_vector, origin)\n",
    "    assert magnitude == norm(tf_vector)\n",
    "    assert magnitude == (tf_vector @ tf_vector) ** 0.5\n",
    "    print(f\"{name}'s magnitude is approximately {magnitude:.4f}\")\n",
    "\n",
    "magnitude_ratio = norm(title_a_vector) / norm(query_vector)\n",
    "print(f\"\\nVector A is {magnitude_ratio:.0f}x as long as Query Vector\")"
   ]
  },
  {
   "cell_type": "code",
   "execution_count": 25,
   "metadata": {},
   "outputs": [
    {
     "data": {
      "image/png": "[encoded data removed]",
      "text/plain": [
       "<Figure size 432x288 with 1 Axes>"
      ]
     },
     "metadata": {
      "needs_background": "light"
     },
     "output_type": "display_data"
    }
   ],
   "source": [
    "unit_query_vector = query_vector / norm(query_vector)\n",
    "unit_title_a_vector = title_a_vector / norm(title_a_vector)\n",
    "np.array_equal(unit_query_vector, unit_title_a_vector)\n",
    "unit_title_b_vector = title_b_vector\n",
    "\n",
    "plt.plot([0, unit_query_vector[0]], [0, unit_query_vector[1]], c='k',\n",
    "         linewidth=3, label='Normalized Query Vector')\n",
    "plt.plot([0, unit_title_a_vector[0]], [0, unit_title_a_vector[1]], c='b',\n",
    "          linestyle='--', label='Normalized Title A Vector')\n",
    "plt.plot([0, unit_title_b_vector[0]], [0, unit_title_b_vector[1]], c='g',\n",
    "         linewidth=2, linestyle='-.', label='Title B Vector')\n",
    "\n",
    "plt.axis('equal')\n",
    "plt.legend()\n",
    "plt.show()"
   ]
  },
  {
   "cell_type": "code",
   "execution_count": 26,
   "metadata": {},
   "outputs": [
    {
     "name": "stdout",
     "output_type": "stream",
     "text": [
      "'A: Pepperoni Pizza! Pepperoni Pizza! Pepperoni Pizza!' has a normalized query similarity of 1.0000\n",
      "'B: Pepperoni' has a normalized query similarity of 0.5469\n"
     ]
    }
   ],
   "source": [
    "unit_title_vectors = [unit_title_a_vector, unit_title_b_vector]\n",
    "similarities = [tanimoto_similarity(unit_query_vector, unit_title_vector)\n",
    "                for unit_title_vector in unit_title_vectors]\n",
    "\n",
    "for index in sorted(range(len(titles)), key=lambda i: similarities[i],\n",
    "                    reverse=True):\n",
    "    title = titles[index]\n",
    "    similarity = similarities[index]\n",
    "    print(f\"'{title}' has a normalized query similarity of {similarity:.4f}\")"
   ]
  },
  {
   "cell_type": "code",
   "execution_count": 27,
   "metadata": {},
   "outputs": [],
   "source": [
    "def normalized_tanimoto(u1, u2):\n",
    "    dot_product = u1 @ u2\n",
    "    return dot_product / (2 - dot_product)\n",
    "\n",
    "for unit_title_vector in unit_title_vectors[1:]:\n",
    "    similarity = normalized_tanimoto(unit_query_vector, unit_title_vector)\n",
    "    assert similarity == tanimoto_similarity(unit_query_vector,\n",
    "                                             unit_title_vector)"
   ]
  },
  {
   "cell_type": "code",
   "execution_count": 28,
   "metadata": {},
   "outputs": [
    {
     "name": "stdout",
     "output_type": "stream",
     "text": [
      "We are comparing Normalized Query Vector and Normalized Title A vector\n",
      "The Tanimoto similarity between vectors is 1.0000\n",
      "The cosine similarity between vectors is 1.0000\n",
      "The Euclidean distance between vectors is 0.0000\n",
      "The angle between vectors is 0.0000 degrees\n",
      "\n",
      "We are comparing Normalized Query Vector and Title B Vector\n",
      "The Tanimoto similarity between vectors is 0.5469\n",
      "The cosine similarity between vectors is 0.7071\n",
      "The Euclidean distance between vectors is 0.7654\n",
      "The angle between vectors is 45.0000 degrees\n",
      "\n"
     ]
    }
   ],
   "source": [
    "unit_vector_names = ['Normalized Title A vector', 'Title B Vector']\n",
    "u1 = unit_query_vector\n",
    "\n",
    "for unit_vector_name, u2 in zip(unit_vector_names, unit_title_vectors):\n",
    "    similarity = normalized_tanimoto(u1, u2)\n",
    "    cosine_similarity  = 2 * similarity / (1 + similarity)\n",
    "    assert cosine_similarity == u1 @ u2\n",
    "    angle = np.arccos(cosine_similarity)\n",
    "    euclidean_distance = (2 - 2 * cosine_similarity) ** 0.5\n",
    "    assert round(euclidean_distance, 10) == round(euclidean(u1, u2), 10)\n",
    "    measurements = {'Tanimoto similarity': similarity,\n",
    "                    'cosine similarity': cosine_similarity,\n",
    "                    'Euclidean distance': euclidean_distance,\n",
    "                    'angle': np.degrees(angle)}\n",
    "\n",
    "    print(\"We are comparing Normalized Query Vector and \"\n",
    "           f\"{unit_vector_name}\")\n",
    "    for measurement_type, value in measurements.items():\n",
    "        output = f\"The {measurement_type} between vectors is {value:.4f}\"\n",
    "        if measurement_type == 'angle':\n",
    "            output += ' degrees\\n'\n",
    "\n",
    "        print(output)"
   ]
  },
  {
   "cell_type": "markdown",
   "metadata": {},
   "source": [
    "<h2>13.3  Matrix Multiplication for Efficient Similarity Calculation"
   ]
  },
  {
   "cell_type": "code",
   "execution_count": 29,
   "metadata": {},
   "outputs": [
    {
     "data": {
      "image/png": "[encoded data removed]",
      "text/plain": [
       "<Figure size 432x288 with 2 Axes>"
      ]
     },
     "metadata": {
      "needs_background": "light"
     },
     "output_type": "display_data"
    }
   ],
   "source": [
    "num_texts = len(tf_vectors)\n",
    "similarities = np.array([[0.0] * num_texts for _ in range(num_texts)])\n",
    "similarities = np.zeros((num_texts, num_texts))\n",
    "unit_vectors = np.array([vector / norm(vector) for vector in tf_vectors])\n",
    "for i, vector_a in enumerate(unit_vectors):\n",
    "    for j, vector_b in enumerate(unit_vectors):\n",
    "        similarities[i][j] = normalized_tanimoto(vector_a, vector_b)\n",
    "\n",
    "labels = ['Text 1', 'Text 2', 'Text 3']\n",
    "sns.heatmap(similarities,  cmap='YlGnBu', annot=True,\n",
    "            xticklabels=labels, yticklabels=labels)\n",
    "plt.yticks(rotation=0)\n",
    "plt.show()"
   ]
  },
  {
   "cell_type": "code",
   "execution_count": 30,
   "metadata": {},
   "outputs": [
    {
     "name": "stdout",
     "output_type": "stream",
     "text": [
      "Our Pandas DataFrame contains 3 rows and 15 columns\n",
      "Our 2D NumPy array contains 3 rows and 15 columns\n"
     ]
    }
   ],
   "source": [
    "import pandas as pd\n",
    "\n",
    "matrices = [unit_vectors, pd.DataFrame(unit_vectors)]\n",
    "matrix_types = ['Pandas DataFrame', '2D NumPy array']\n",
    "\n",
    "for matrix_type, matrix in zip(matrix_types, matrices):\n",
    "    row_count, column_count = matrix.shape\n",
    "    print(f\"Our {matrix_type} contains \"\n",
    "          f\"{row_count} rows and {column_count} columns\")\n",
    "    assert (column_count, row_count) == matrix.T.shape"
   ]
  },
  {
   "cell_type": "code",
   "execution_count": 31,
   "metadata": {},
   "outputs": [],
   "source": [
    "double_similarites = 2 * similarities\n",
    "np.array_equal(double_similarites, similarities + similarities)\n",
    "zero_matrix = similarities - similarities\n",
    "negative_1_matrix = similarities - similarities - 1\n",
    "\n",
    "for i in range(similarities.shape[0]):\n",
    "    for j in range(similarities.shape[1]):\n",
    "        assert double_similarites[i][j] == 2 * similarities[i][j]\n",
    "        assert zero_matrix[i][j] == 0\n",
    "        assert negative_1_matrix[i][j] == -1"
   ]
  },
  {
   "cell_type": "code",
   "execution_count": 32,
   "metadata": {},
   "outputs": [],
   "source": [
    "squared_similarities = similarities * similarities\n",
    "assert np.array_equal(squared_similarities, similarities ** 2)\n",
    "ones_matrix = similarities / similarities\n",
    "\n",
    "for i in range(similarities.shape[0]):\n",
    "    for j in range(similarities.shape[1]):\n",
    "        assert squared_similarities[i][j] == similarities[i][j] ** 2\n",
    "        assert ones_matrix[i][j] == 1"
   ]
  },
  {
   "cell_type": "code",
   "execution_count": 33,
   "metadata": {},
   "outputs": [],
   "source": [
    "cosine_similarities  = 2 * similarities / (1 + similarities)\n",
    "for i in range(similarities.shape[0]):\n",
    "    for j in range(similarities.shape[1]):\n",
    "        cosine_sim = unit_vectors[i] @ unit_vectors[j]\n",
    "        assert round(cosine_similarities[i][j],\n",
    "                     15) == round(cosine_sim, 15)"
   ]
  },
  {
   "cell_type": "code",
   "execution_count": 34,
   "metadata": {},
   "outputs": [
    {
     "name": "stdout",
     "output_type": "stream",
     "text": [
      "Accessing rows and columns in the Similarities Matrix.\n",
      "Row at index 0 is:\n",
      "[0.51442439 1.         0.26431921]\n",
      "\n",
      "Column at index 0 is:\n",
      "[0.51442439 1.         0.26431921]\n",
      "\n",
      "Accessing rows and columns in the Unit Vectors Matrix.\n",
      "Row at index 0 is:\n",
      "[0.        0.        0.2773501 0.2773501 0.        0.        0.2773501\n",
      " 0.2773501 0.        0.        0.2773501 0.        0.        0.5547002\n",
      " 0.5547002]\n",
      "\n",
      "Column at index 0 is:\n",
      "[0.         0.         0.30151134]\n",
      "\n"
     ]
    }
   ],
   "source": [
    "for name, matrix in [('Similarities', similarities),\n",
    "                     ('Unit Vectors', unit_vectors)]:\n",
    "    print(f\"Accessing rows and columns in the {name} Matrix.\")\n",
    "    row, column = matrix[1], matrix[:,1]\n",
    "    print(f\"Row at index 0 is:\\n{row}\")\n",
    "    print(f\"\\nColumn at index 0 is:\\n{column}\\n\")"
   ]
  },
  {
   "cell_type": "code",
   "execution_count": 35,
   "metadata": {},
   "outputs": [
    {
     "name": "stdout",
     "output_type": "stream",
     "text": [
      "The dot product between the row and column is: 0.5423\n"
     ]
    }
   ],
   "source": [
    "row = similarities[0]\n",
    "column = unit_vectors[:,0]\n",
    "dot_product = row @ column\n",
    "print(f\"The dot product between the row and column is: {dot_product:.4f}\")"
   ]
  },
  {
   "cell_type": "code",
   "execution_count": 36,
   "metadata": {},
   "outputs": [
    {
     "name": "stdout",
     "output_type": "stream",
     "text": [
      "The dot product between row 0 column 0 is: 0.5423\n",
      "The dot product between row 0 column 1 is: 0.1340\n",
      "The dot product between row 0 column 2 is: 0.1427\n",
      "The dot product between row 0 column 3 is: 0.6850\n",
      "The dot product between row 0 column 4 is: 0.1340\n",
      "The dot product between row 0 column 5 is: 0.1340\n",
      "The dot product between row 0 column 6 is: 0.1427\n",
      "The dot product between row 0 column 7 is: 0.1427\n",
      "The dot product between row 0 column 8 is: 0.1340\n",
      "The dot product between row 0 column 9 is: 0.5423\n",
      "The dot product between row 0 column 10 is: 0.5509\n",
      "The dot product between row 0 column 11 is: 0.1340\n",
      "The dot product between row 0 column 12 is: 0.1340\n",
      "The dot product between row 0 column 13 is: 0.8276\n",
      "The dot product between row 0 column 14 is: 0.8276\n",
      "The dot product between row 1 column 0 is: 0.2897\n",
      "The dot product between row 1 column 1 is: 0.0797\n",
      "The dot product between row 1 column 2 is: 0.2774\n",
      "The dot product between row 1 column 3 is: 0.5671\n",
      "The dot product between row 1 column 4 is: 0.0797\n",
      "The dot product between row 1 column 5 is: 0.0797\n",
      "The dot product between row 1 column 6 is: 0.2774\n",
      "The dot product between row 1 column 7 is: 0.2774\n",
      "The dot product between row 1 column 8 is: 0.0797\n",
      "The dot product between row 1 column 9 is: 0.2897\n",
      "The dot product between row 1 column 10 is: 0.4874\n",
      "The dot product between row 1 column 11 is: 0.0797\n",
      "The dot product between row 1 column 12 is: 0.0797\n",
      "The dot product between row 1 column 13 is: 0.8444\n",
      "The dot product between row 1 column 14 is: 0.8444\n",
      "The dot product between row 2 column 0 is: 0.4830\n",
      "The dot product between row 2 column 1 is: 0.3015\n",
      "The dot product between row 2 column 2 is: 0.0733\n",
      "The dot product between row 2 column 3 is: 0.5563\n",
      "The dot product between row 2 column 4 is: 0.3015\n",
      "The dot product between row 2 column 5 is: 0.3015\n",
      "The dot product between row 2 column 6 is: 0.0733\n",
      "The dot product between row 2 column 7 is: 0.0733\n",
      "The dot product between row 2 column 8 is: 0.3015\n",
      "The dot product between row 2 column 9 is: 0.4830\n",
      "The dot product between row 2 column 10 is: 0.2548\n",
      "The dot product between row 2 column 11 is: 0.3015\n",
      "The dot product between row 2 column 12 is: 0.3015\n",
      "The dot product between row 2 column 13 is: 0.6296\n",
      "The dot product between row 2 column 14 is: 0.6296\n"
     ]
    }
   ],
   "source": [
    "num_rows = similarities.shape[0]\n",
    "num_columns = unit_vectors.shape[1]\n",
    "for i in range(num_rows):\n",
    "    for j in range(num_columns):\n",
    "        row = similarities[i]\n",
    "        column = unit_vectors[:,j]\n",
    "        dot_product = row @ column\n",
    "        print(f\"The dot product between row {i} column {j} is: \"\n",
    "              f\"{dot_product:.4f}\")"
   ]
  },
  {
   "cell_type": "code",
   "execution_count": 37,
   "metadata": {},
   "outputs": [
    {
     "name": "stdout",
     "output_type": "stream",
     "text": [
      "[[0.54227624 0.13402795 0.14267565 0.6849519  0.13402795 0.13402795\n",
      "  0.14267565 0.14267565 0.13402795 0.54227624 0.55092394 0.13402795\n",
      "  0.13402795 0.82762755 0.82762755]\n",
      " [0.28970812 0.07969524 0.2773501  0.56705821 0.07969524 0.07969524\n",
      "  0.2773501  0.2773501  0.07969524 0.28970812 0.48736297 0.07969524\n",
      "  0.07969524 0.84440831 0.84440831]\n",
      " [0.48298605 0.30151134 0.07330896 0.55629501 0.30151134 0.30151134\n",
      "  0.07330896 0.07330896 0.30151134 0.48298605 0.25478367 0.30151134\n",
      "  0.30151134 0.62960397 0.62960397]]\n"
     ]
    }
   ],
   "source": [
    "dot_products = np.zeros((num_rows, num_columns))\n",
    "for i in range(num_rows):\n",
    "    for j in range(num_columns):\n",
    "        dot_products[i][j] = similarities[i] @ unit_vectors[:,j]\n",
    "\n",
    "print(dot_products)"
   ]
  },
  {
   "cell_type": "code",
   "execution_count": 38,
   "metadata": {},
   "outputs": [],
   "source": [
    "matrix_product = similarities @ unit_vectors\n",
    "assert np.allclose(matrix_product, dot_products)"
   ]
  },
  {
   "cell_type": "code",
   "execution_count": 39,
   "metadata": {},
   "outputs": [
    {
     "name": "stdout",
     "output_type": "stream",
     "text": [
      "We can't compute the matrix product\n"
     ]
    }
   ],
   "source": [
    "try:\n",
    "    matrix_product = unit_vectors @ similarities\n",
    "except:\n",
    "    print(\"We can't compute the matrix product\")"
   ]
  },
  {
   "cell_type": "code",
   "execution_count": 40,
   "metadata": {},
   "outputs": [],
   "source": [
    "matrix_product = np.matmul(similarities, unit_vectors)\n",
    "assert np.array_equal(matrix_product,\n",
    "                      similarities @ unit_vectors)"
   ]
  },
  {
   "cell_type": "code",
   "execution_count": 41,
   "metadata": {},
   "outputs": [
    {
     "data": {
      "image/png": "[encoded data removed]",
      "text/plain": [
       "<Figure size 432x288 with 1 Axes>"
      ]
     },
     "metadata": {
      "needs_background": "light"
     },
     "output_type": "display_data"
    }
   ],
   "source": [
    "import time\n",
    "\n",
    "numpy_run_times = []\n",
    "for_loop_run_times = []\n",
    "\n",
    "matrix_sizes = range(1, 101)\n",
    "for size in matrix_sizes:\n",
    "    matrix = np.ones((size, size))\n",
    "\n",
    "    start_time = time.time()\n",
    "    matrix @ matrix\n",
    "    numpy_run_times.append(time.time() - start_time)\n",
    "\n",
    "    start_time = time.time()\n",
    "    for i in range(size):\n",
    "        for j in range(size):\n",
    "            matrix[i] @ matrix[:,j]\n",
    "\n",
    "    for_loop_run_times.append(time.time() - start_time)\n",
    "\n",
    "plt.plot(matrix_sizes, numpy_run_times,\n",
    "         label='NumPy Matrix Product', linestyle='--')\n",
    "plt.plot(matrix_sizes, for_loop_run_times,\n",
    "         label='For-Loop Matrix Product', color='k')\n",
    "plt.xlabel('Row / Column Size')\n",
    "plt.ylabel('Running Time (Seconds)')\n",
    "plt.legend()\n",
    "plt.show()"
   ]
  },
  {
   "cell_type": "code",
   "execution_count": 42,
   "metadata": {},
   "outputs": [],
   "source": [
    "cosine_matrix = unit_vectors @ unit_vectors.T\n",
    "assert np.allclose(cosine_matrix, cosine_similarities)"
   ]
  },
  {
   "cell_type": "code",
   "execution_count": 43,
   "metadata": {},
   "outputs": [],
   "source": [
    "tanimoto_matrix = cosine_matrix / (2 - cosine_matrix)\n",
    "assert np.allclose(tanimoto_matrix, similarities)"
   ]
  },
  {
   "cell_type": "code",
   "execution_count": 44,
   "metadata": {},
   "outputs": [],
   "source": [
    "output = normalized_tanimoto(unit_vectors, unit_vectors.T)\n",
    "assert np.array_equal(output, tanimoto_matrix)"
   ]
  },
  {
   "cell_type": "code",
   "execution_count": 45,
   "metadata": {},
   "outputs": [
    {
     "name": "stdout",
     "output_type": "stream",
     "text": [
      "It took 0.0170 seconds to compute the similarities across a 30-book by 50000-word matrix\n"
     ]
    }
   ],
   "source": [
    "vocabulary_size = 50000\n",
    "normalized_vector = [1 / vocabulary_size] * vocabulary_size\n",
    "book_count = 30\n",
    "\n",
    "def measure_run_time(book_count):\n",
    "    book_matrix = np.array([normalized_vector] * book_count)\n",
    "    start_time = time.time()\n",
    "    normalized_tanimoto(book_matrix, book_matrix.T)\n",
    "    return time.time() - start_time\n",
    "\n",
    "run_time = measure_run_time(book_count)\n",
    "print(f\"It took {run_time:.4f} seconds to compute the similarities across a \"\n",
    "      f\"{book_count}-book by {vocabulary_size}-word matrix\")"
   ]
  },
  {
   "cell_type": "code",
   "execution_count": 46,
   "metadata": {},
   "outputs": [
    {
     "data": {
      "image/png": "[encoded data removed]",
      "text/plain": [
       "<Figure size 432x288 with 1 Axes>"
      ]
     },
     "metadata": {
      "needs_background": "light"
     },
     "output_type": "display_data"
    }
   ],
   "source": [
    "book_counts = range(30, 1000, 30)\n",
    "run_times = [measure_run_time(book_count)\n",
    "             for book_count in book_counts]\n",
    "plt.scatter(book_counts, run_times)\n",
    "plt.xlabel('Book Count')\n",
    "plt.ylabel('Running Time (Seconds)')\n",
    "plt.show()"
   ]
  },
  {
   "cell_type": "code",
   "execution_count": 47,
   "metadata": {},
   "outputs": [
    {
     "data": {
      "image/png": "[encoded data removed]",
      "text/plain": [
       "<Figure size 432x288 with 1 Axes>"
      ]
     },
     "metadata": {
      "needs_background": "light"
     },
     "output_type": "display_data"
    }
   ],
   "source": [
    "def y(x): return (0.27 / (1000 ** 2)) * (x ** 2)\n",
    "plt.scatter(book_counts, run_times)\n",
    "plt.plot(book_counts, y(np.array(book_counts)), c='k')\n",
    "plt.xlabel('Book Count')\n",
    "plt.ylabel('Running Time (Seconds)')\n",
    "plt.show()"
   ]
  },
  {
   "cell_type": "code",
   "execution_count": 48,
   "metadata": {},
   "outputs": [
    {
     "name": "stdout",
     "output_type": "stream",
     "text": [
      "It will take 6.75 hours to compute all-by-all similarities from a 300000-book by 50000-word matrix\n"
     ]
    }
   ],
   "source": [
    "book_count = 300000\n",
    "run_time = y(book_count) / 3600\n",
    "print(f\"It will take {run_time} hours to compute all-by-all similarities \"\n",
    "      f\"from a {book_count}-book by {vocabulary_size}-word matrix\")"
   ]
  },
  {
   "cell_type": "markdown",
   "metadata": {},
   "source": [
    "<h1>14 Dimension Reduction of Matrix Data"
   ]
  },
  {
   "cell_type": "code",
   "execution_count": 50,
   "metadata": {},
   "outputs": [
    {
     "data": {
      "image/png": "[encoded data removed]",
      "text/plain": [
       "<Figure size 432x288 with 1 Axes>"
      ]
     },
     "metadata": {
      "needs_background": "light"
     },
     "output_type": "display_data"
    }
   ],
   "source": [
    "import numpy as np\n",
    "heights = np.arange(60, 78, 0.1)\n",
    "np.random.seed(0)\n",
    "random_fluctuations = np.random.normal(scale=10, size=heights.size)\n",
    "weights = 4 * heights - 130 + random_fluctuations\n",
    "import matplotlib.pyplot as plt\n",
    "measurements = np.array([heights, weights])\n",
    "plt.scatter(measurements[0], measurements[1])\n",
    "plt.xlabel('Height (in)')\n",
    "plt.ylabel('Weight (lb)')\n",
    "plt.axis('equal')\n",
    "plt.show()"
   ]
  },
  {
   "cell_type": "code",
   "execution_count": 51,
   "metadata": {},
   "outputs": [
    {
     "data": {
      "image/png": "[encoded data removed]",
      "text/plain": [
       "<Figure size 432x288 with 1 Axes>"
      ]
     },
     "metadata": {
      "needs_background": "light"
     },
     "output_type": "display_data"
    }
   ],
   "source": [
    "centered_data = np.array([heights - heights.mean(),\n",
    "                          weights - weights.mean()])\n",
    "plt.scatter(centered_data[0], centered_data[1])\n",
    "plt.axhline(0, c='black')\n",
    "plt.axvline(0, c='black')\n",
    "plt.xlabel('Centralized Height (in)')\n",
    "plt.ylabel('Centralized Weight (lb)')\n",
    "plt.axis('equal')\n",
    "plt.show()"
   ]
  },
  {
   "cell_type": "code",
   "execution_count": 52,
   "metadata": {},
   "outputs": [
    {
     "data": {
      "image/png": "[encoded data removed]",
      "text/plain": [
       "<Figure size 432x288 with 1 Axes>"
      ]
     },
     "metadata": {
      "needs_background": "light"
     },
     "output_type": "display_data"
    }
   ],
   "source": [
    "from math import sin, cos\n",
    "angle = np.radians(-90)\n",
    "rotation_matrix = np.array([[cos(angle), -sin(angle)],\n",
    "                            [sin(angle), cos(angle)]])\n",
    "\n",
    "rotated_data = rotation_matrix @ centered_data\n",
    "plt.scatter(centered_data[0], centered_data[1], label='Original Data')\n",
    "plt.scatter(rotated_data[0], rotated_data[1], c='y', label='Rotated Data')\n",
    "plt.axhline(0, c='black')\n",
    "plt.axvline(0, c='black')\n",
    "plt.legend()\n",
    "plt.axis('equal')\n",
    "plt.show()"
   ]
  },
  {
   "cell_type": "code",
   "execution_count": 53,
   "metadata": {},
   "outputs": [
    {
     "name": "stdout",
     "output_type": "stream",
     "text": [
      "The penalty score for the unrotated data is 519.82\n",
      "The penalty score for the rotated data is 27.00\n"
     ]
    }
   ],
   "source": [
    "data_labels = ['unrotated', 'rotated']\n",
    "data_list = [centered_data, rotated_data]\n",
    "for data_label, data in zip(data_labels, data_list):\n",
    "    y_values = data[1]\n",
    "    penalty = y_values @ y_values / y_values.size\n",
    "    print(f\"The penalty score for the {data_label} data is {penalty:.2f}\")"
   ]
  },
  {
   "cell_type": "code",
   "execution_count": 58,
   "metadata": {},
   "outputs": [
    {
     "name": "stdout",
     "output_type": "stream",
     "text": [
      "519.8206294035247\n",
      "519.8206294035248\n",
      "The y-axis variance for the unrotated data is 519.82\n",
      "26.999166666667417\n",
      "26.999166666667417\n",
      "The y-axis variance for the rotated data is 27.00\n"
     ]
    }
   ],
   "source": [
    "for data_label, data in zip(data_labels, data_list):\n",
    "    y_var = data[1].var()\n",
    "    print(y_var)\n",
    "    print(data[1] @ data[1] / data[1].size)\n",
    "    #    assert y_var == data[1] @ data[1] / data[1].size\n",
    "    print(f\"The y-axis variance for the {data_label} data is {y_var:.2f}\")"
   ]
  },
  {
   "cell_type": "code",
   "execution_count": 59,
   "metadata": {},
   "outputs": [
    {
     "name": "stdout",
     "output_type": "stream",
     "text": [
      "The x-axis variance for the unrotated data is 27.00\n",
      "The x-axis variance for the rotated data is 519.82\n"
     ]
    }
   ],
   "source": [
    "for data_label, data in zip(data_labels, data_list):\n",
    "    x_var = data[0].var()\n",
    "    print(f\"The x-axis variance for the {data_label} data is {x_var:.2f}\")"
   ]
  },
  {
   "cell_type": "code",
   "execution_count": 60,
   "metadata": {},
   "outputs": [],
   "source": [
    "total_variance = centered_data[0].var() + centered_data[1].var()\n",
    "assert total_variance == rotated_data[0].var() + rotated_data[1].var()"
   ]
  },
  {
   "cell_type": "code",
   "execution_count": 61,
   "metadata": {},
   "outputs": [
    {
     "name": "stdout",
     "output_type": "stream",
     "text": [
      "In the unrotated data, 4.94% of the total variance is distributed across the x-axis\n",
      "The remaining 95.06% of the total variance is distributed across the y-axis\n",
      "\n",
      "In the rotated data, 95.06% of the total variance is distributed across the x-axis\n",
      "The remaining 4.94% of the total variance is distributed across the y-axis\n",
      "\n"
     ]
    }
   ],
   "source": [
    "for data_label, data in zip(data_labels, data_list):\n",
    "    percent_x_axis_var = 100 * data[0].var() / total_variance\n",
    "    percent_y_axis_var = 100 * data[1].var() / total_variance\n",
    "    print(f\"In the {data_label} data, {percent_x_axis_var:.2f}% of the \"\n",
    "           \"total variance is distributed across the x-axis\")\n",
    "    print(f\"The remaining {percent_y_axis_var:.2f}% of the total \"\n",
    "           \"variance is distributed across the y-axis\\n\")"
   ]
  },
  {
   "cell_type": "code",
   "execution_count": 62,
   "metadata": {},
   "outputs": [
    {
     "data": {
      "image/png": "[encoded data removed]",
      "text/plain": [
       "<Figure size 432x288 with 1 Axes>"
      ]
     },
     "metadata": {
      "needs_background": "light"
     },
     "output_type": "display_data"
    },
    {
     "name": "stdout",
     "output_type": "stream",
     "text": [
      "The horizontal variance is maximized to approximately 541 after a 78.3 degree rotation.\n",
      "That rotation distributes 99.08% of the total variance onto the x-axis.\n"
     ]
    }
   ],
   "source": [
    "def rotate(angle, data=centered_data):\n",
    "    angle = np.radians(-angle)\n",
    "    rotation_matrix = np.array([[cos(angle), -sin(angle)],\n",
    "                                [sin(angle), cos(angle)]])\n",
    "    return rotation_matrix @ data\n",
    "\n",
    "angles = np.arange(1, 180, 0.1)\n",
    "x_variances = [(rotate(angle)[0].var()) for angle in angles]\n",
    "\n",
    "percent_x_variances = 100 * np.array(x_variances) / total_variance\n",
    "optimal_index = np.argmax(percent_x_variances)\n",
    "optimal_angle = angles[optimal_index]\n",
    "plt.plot(angles, percent_x_variances)\n",
    "plt.axvline(optimal_angle, c='k')\n",
    "plt.xlabel('Angle (degrees)')\n",
    "plt.ylabel('% x-axis coverage')\n",
    "plt.show()\n",
    "\n",
    "max_coverage = percent_x_variances[optimal_index]\n",
    "max_x_var = x_variances[optimal_index]\n",
    "\n",
    "print(\"The horizontal variance is maximized to approximately \"\n",
    "      f\"{int(max_x_var)} after a {optimal_angle:.1f} degree rotation.\")\n",
    "print(f\"That rotation distributes {max_coverage:.2f}% of the total \"\n",
    "       \"variance onto the x-axis.\")"
   ]
  },
  {
   "cell_type": "code",
   "execution_count": 63,
   "metadata": {},
   "outputs": [
    {
     "data": {
      "image/png": "[encoded data removed]",
      "text/plain": [
       "<Figure size 432x288 with 1 Axes>"
      ]
     },
     "metadata": {
      "needs_background": "light"
     },
     "output_type": "display_data"
    }
   ],
   "source": [
    "best_rotated_data = rotate(optimal_angle)\n",
    "plt.scatter(best_rotated_data[0], best_rotated_data[1])\n",
    "plt.axhline(0, c='black')\n",
    "plt.axvline(0, c='black')\n",
    "plt.axis('equal')\n",
    "plt.show()"
   ]
  },
  {
   "cell_type": "code",
   "execution_count": 64,
   "metadata": {},
   "outputs": [
    {
     "name": "stdout",
     "output_type": "stream",
     "text": [
      "A 1D threshold of -14.61 seperates the small-sized and medium-sized customers.\n",
      "A 1D threshold of 15.80 seperates the medium-sized and large-sized customers.\n"
     ]
    }
   ],
   "source": [
    "x_values = best_rotated_data[0]\n",
    "sorted_x_values = sorted(x_values)\n",
    "cluster_size = int(x_values.size / 3)\n",
    "small_cutoff = max(sorted_x_values[:cluster_size])\n",
    "large_cutoff = min(sorted_x_values[-cluster_size:])\n",
    "print(f\"A 1D threshold of {small_cutoff:.2f} seperates the small-sized \"\n",
    "           \"and medium-sized customers.\")\n",
    "print(f\"A 1D threshold of {large_cutoff:.2f} seperates the medium-sized \"\n",
    "                \"and large-sized customers.\")"
   ]
  },
  {
   "cell_type": "code",
   "execution_count": 65,
   "metadata": {},
   "outputs": [
    {
     "data": {
      "image/png": "[encoded data removed]",
      "text/plain": [
       "<Figure size 432x288 with 1 Axes>"
      ]
     },
     "metadata": {
      "needs_background": "light"
     },
     "output_type": "display_data"
    }
   ],
   "source": [
    "def plot_customer_segments(horizontal_2d_data):\n",
    "    small, medium, large = [], [], []\n",
    "    cluster_labels = ['Small', 'Medium', 'Large']\n",
    "    for x_value, y_value in horizontal_2d_data.T:\n",
    "        if x_value <= small_cutoff:\n",
    "            small.append([x_value, y_value])\n",
    "        elif small_cutoff < x_value < large_cutoff:\n",
    "            medium.append([x_value, y_value])\n",
    "        else:\n",
    "            large.append([x_value, y_value])\n",
    "\n",
    "    for i, cluster in enumerate([small, medium, large]):\n",
    "        cluster_x_values, cluster_y_values = np.array(cluster).T\n",
    "        plt.scatter(cluster_x_values, cluster_y_values,\n",
    "                    color=['g', 'b', 'y'][i],\n",
    "                    label=cluster_labels[i])\n",
    "\n",
    "    plt.axhline(0, c='black')\n",
    "    plt.axvline(large_cutoff, c='black', linewidth=3, linestyle='--')\n",
    "    plt.axvline(small_cutoff, c='black', linewidth=3, linestyle='--')\n",
    "    plt.axis('equal')\n",
    "    plt.legend()\n",
    "    plt.show()\n",
    "\n",
    "plot_customer_segments(best_rotated_data)"
   ]
  },
  {
   "cell_type": "code",
   "execution_count": 67,
   "metadata": {},
   "outputs": [
    {
     "data": {
      "image/png": "[encoded data removed]",
      "text/plain": [
       "<Figure size 432x288 with 1 Axes>"
      ]
     },
     "metadata": {
      "needs_background": "light"
     },
     "output_type": "display_data"
    }
   ],
   "source": [
    "zero_y_values = np.zeros(x_values.size)\n",
    "reproduced_data = rotate(-optimal_angle, data=[x_values, zero_y_values])\n",
    "plt.plot(reproduced_data[0], reproduced_data[1], c='k',\n",
    "         label='Reproduced Data')\n",
    "plt.scatter(centered_data[0], centered_data[1], c='y',\n",
    "            label='Original Data')\n",
    "plt.axis('equal')\n",
    "plt.legend()\n",
    "plt.show()"
   ]
  },
  {
   "cell_type": "code",
   "execution_count": 68,
   "metadata": {},
   "outputs": [
    {
     "data": {
      "image/png": "[encoded data removed]",
      "text/plain": [
       "<Figure size 432x288 with 1 Axes>"
      ]
     },
     "metadata": {
      "needs_background": "light"
     },
     "output_type": "display_data"
    }
   ],
   "source": [
    "np.random.seed(1)\n",
    "new_heights = np.arange(60, 78, .11)\n",
    "random_fluctuations = np.random.normal(scale=10, size=new_heights.size)\n",
    "new_weights =  4 * new_heights - 130 + random_fluctuations\n",
    "new_centered_data = np.array([new_heights - heights.mean(),\n",
    "                              new_weights - weights.mean()])\n",
    "plt.scatter(new_centered_data[0], new_centered_data[1], c='y',\n",
    "            label='New Customer Data')\n",
    "plt.plot(reproduced_data[0], reproduced_data[1], c='k',\n",
    "         label='First Principal Direction')\n",
    "plt.xlabel('Centralized Height (in)')\n",
    "plt.ylabel('Centralized Weight (lb)')\n",
    "plt.axis('equal')\n",
    "plt.legend()\n",
    "plt.show()"
   ]
  },
  {
   "cell_type": "code",
   "execution_count": 69,
   "metadata": {},
   "outputs": [
    {
     "data": {
      "image/png": "[encoded data removed]",
      "text/plain": [
       "<Figure size 432x288 with 1 Axes>"
      ]
     },
     "metadata": {
      "needs_background": "light"
     },
     "output_type": "display_data"
    }
   ],
   "source": [
    "new_horizontal_data = rotate(optimal_angle, data=new_centered_data)\n",
    "plot_customer_segments(new_horizontal_data)"
   ]
  },
  {
   "cell_type": "markdown",
   "metadata": {},
   "source": [
    "<h2>14.2  Dimension Reduction Using PCA and Scikit-Learn"
   ]
  },
  {
   "cell_type": "code",
   "execution_count": null,
   "metadata": {},
   "outputs": [],
   "source": []
  }
 ],
 "metadata": {
  "kernelspec": {
   "display_name": "Python 3",
   "language": "python",
   "name": "python3"
  },
  "language_info": {
   "codemirror_mode": {
    "name": "ipython",
    "version": 3
   },
   "file_extension": ".py",
   "mimetype": "text/x-python",
   "name": "python",
   "nbconvert_exporter": "python",
   "pygments_lexer": "ipython3",
   "version": "3.8.2"
  }
 },
 "nbformat": 4,
 "nbformat_minor": 4
}
